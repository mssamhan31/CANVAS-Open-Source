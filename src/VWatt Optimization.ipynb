{
 "cells": [
  {
   "cell_type": "code",
   "execution_count": 65,
   "id": "2af2f0ec",
   "metadata": {},
   "outputs": [
    {
     "name": "stderr",
     "output_type": "stream",
     "text": [
      "C:\\Users\\samha\\AppData\\Local\\Temp\\ipykernel_2968\\3593773758.py:1: DeprecationWarning: Importing display from IPython.core.display is deprecated since IPython 7.14, please import from IPython display\n",
      "  from IPython.core.display import display, HTML\n"
     ]
    },
    {
     "data": {
      "text/html": [
       "<style>.container {width: 100% !important}</style>"
      ],
      "text/plain": [
       "<IPython.core.display.HTML object>"
      ]
     },
     "metadata": {},
     "output_type": "display_data"
    }
   ],
   "source": [
    "from IPython.core.display import display, HTML\n",
    "display(HTML('<style>.container {width: 100% !important}</style>'))"
   ]
  },
  {
   "cell_type": "markdown",
   "id": "4c90705a",
   "metadata": {},
   "source": [
    "When we run the current script, it takes some minutes to run the VWatt Script. The expected time should be less than 2 seconds since the program is only calculating curtailed generation in a day.\n",
    "\n",
    "The reason behind this:\n",
    "\n",
    "The original VWatt Script from Tim is written in a monthly basis\n",
    "Tim's original script uses pd.read_csv for the data many times! (eg outside of the first and second run, in the first run, and in the second run), which is mainly the problem\n",
    "So, possible solutions might be:\n",
    "\n",
    "Modify the script into daily basis\n",
    "Modify the script so that the pd.read_csv for the data is only deployed once."
   ]
  },
  {
   "cell_type": "code",
   "execution_count": 24,
   "id": "8bae6ad0",
   "metadata": {},
   "outputs": [],
   "source": [
    "import pandas as pd\n",
    "import matplotlib.pyplot as plt\n",
    "import numpy as np\n",
    "import datetime as dt\n",
    "import pytz #for timezone calculation\n",
    "import math\n",
    "import matplotlib.dates as md\n",
    "import gc\n",
    "import os\n",
    "from datetime import datetime\n",
    "%matplotlib qt\n",
    "%matplotlib inline\n",
    "\n",
    "# ================== Global parameters for fonts & sizes =================\n",
    "font_size = 10\n",
    "rc={'font.size': font_size, 'axes.labelsize': font_size, 'legend.fontsize': font_size, \n",
    "    'axes.titlesize': font_size, 'xtick.labelsize': font_size, 'ytick.labelsize': font_size}\n",
    "plt.rcParams.update(**rc)\n",
    "plt.rc('font', weight='bold')\n",
    " \n",
    "# For label titles\n",
    "fontdict={'fontsize': font_size, 'fontweight' : 'bold'}\n",
    "# can add in above dictionary: 'verticalalignment': 'baseline' \n",
    "\n",
    "style = 'ggplot' # choose a style from the above options\n",
    "plt.style.use(style)\n",
    "\n",
    "def input_general_files(file_path):\n",
    "    circuit_details = pd.read_csv(file_path + r\"\\unsw_20190701_circuit_details.csv\")\n",
    "    site_details = pd.read_csv (file_path + r\"\\unsw_20190701_site_details.csv\")\n",
    "    site_details = site_details.merge(circuit_details, left_on = 'site_id', right_on = 'site_id')\n",
    "    unique_cids = pd.read_csv(file_path + r\"\\UniqueCids.csv\", index_col = 0)\n",
    "    return site_details, unique_cids\n",
    "\n",
    "def site_organize(c_id_idx, site_details, data, unique_cids):\n",
    "    \"\"\"Get a single site data and relevant meta-data information.\n",
    "\n",
    "    Args:\n",
    "        c_id_idx (int): c_id value\n",
    "        site_details (df): site_details dataframe from unsw_20190701_site_details.csv file\n",
    "        data (df): D-PV time-series dataframe from input_monthly_file function output\n",
    "        unique_cids (df): Dataframe listing unique c_id's and their corresponding site_id\n",
    "\n",
    "    Returns:\n",
    "        data_site(df): D-PV time-series dataframe, filtered by its site_id and cleaned (polarity correction etc)\n",
    "        ac_cap (float): inverter capacity in W\n",
    "        dc_cap (float): PV array capacity in Wp\n",
    "        eff_system (float): Assumed PV array efficiency between 0 and 1\n",
    "        inverter (str): Concatenated string of inverter manufacturer and model\n",
    "        \n",
    "    Originally written by Baran for VVAr Curtailment Calculation.\n",
    "    \"\"\"\n",
    "    \n",
    "    #c_id = unique_cids.loc[c_id_idx][0]\n",
    "    c_id = c_id_idx\n",
    "    \n",
    "    polarity = site_details.loc[site_details['c_id'] == c_id, 'polarity'].values[0] # get the polarity of the site\n",
    "    ac_cap = site_details.loc[site_details['c_id'] == c_id, 'ac_cap_w'].values[0]\n",
    "    dc_cap = site_details.loc[site_details['c_id'] == c_id, 'dc_cap_w'].values[0]\n",
    "    inverter = site_details.loc[site_details['c_id'] == c_id, 'inverter_manufacturer'].values[0] + ' ' + site_details.loc[site_details['c_id'] == c_id, 'inverter_model'].values[0]\n",
    "\n",
    "    # Extract single site data and organize: \n",
    "    data_site = data[data['c_id'] == c_id].sort_index() # get the monthly data of the specific c_id\n",
    "\n",
    "    data_site['power'] = data_site['power'].values * polarity # polarity correction for real power\n",
    "    data_site.loc[data_site['power'] < 0, 'power'] = 0 #replace negative power value into zero\n",
    "    data_site['reactive_power'] = data_site['reactive_power'].values * polarity # polarity correction for reactive power\n",
    "    \n",
    "    data_site['reactive_power'] = [data_site['reactive_power'].values * -1 if np.percentile(data_site.loc[(data_site.index.hour >= 7) & (data_site.index.hour <= 17), 'reactive_power'], 75) < 0 else data_site['reactive_power'].values][0]  # double check the polarity for reactive power\n",
    "    \n",
    "    if (abs(np.percentile(data_site['reactive_power'], 99))> ac_cap) | (abs(np.percentile(data_site['reactive_power'], 1))> ac_cap): #some VAr measurements in energy format and needs to be divided by duration (i.e., 60 sec)\n",
    "        # data_site['reactive_power'] =  data_site['reactive_power'].values / data_site['duration'].values # unfortunately SolA data doesn't calculate energy according to respective duration but uses a fixed 60 sec values for energy calculation\n",
    "        data_site['reactive_power'] =  data_site['reactive_power'].values / 60\n",
    "        \n",
    "    data_site.index = pd.to_datetime([str(d)[0:19] for d in data_site.index]) ## convert index to make the df plottable (by removing the UTC conversion)\n",
    "    data_site.sort_index(ascending = True, inplace = True) # sort the index in ascending form\n",
    "    # System efficiency for calculating theoretical max output later on (use conservative loss estimates for DC power)\n",
    "    eff_inv = 0.98\n",
    "    eff_vdrop = 0.98 \n",
    "    eff_derating = 0.99  # module derating losses\n",
    "    eff_system = eff_inv * eff_vdrop * eff_derating\n",
    "\n",
    "    # Apparent power of the inverter\n",
    "    data_site['va'] = np.sqrt (data_site['power'].values**2 + data_site['reactive_power'].values**2)\n",
    "    data_site['pf'] = data_site['power']/data_site['va']\n",
    "    \n",
    "    return data_site, ac_cap, dc_cap, eff_system, inverter\n",
    "\n",
    "def check_clear_sky_day(date):\n",
    "    \"\"\"Check whether a certain date is a clear sky day based on the ghi data of that day. Needs ghi data.\n",
    "\n",
    "    Args:\n",
    "    date (str): dat ein YYYYMMDD format\n",
    "\n",
    "    Returns:\n",
    "    clear_sky_day (bool): is it a clear sky day or not\n",
    "    \n",
    "    Funcitons needed:\n",
    "    - Get_timestamp_date_string\n",
    "    - Separate_ghi_data\n",
    "    - Detect_clear_sky_day\n",
    "\n",
    "    Originally written by Tim for VWatt Curtailment Calculation.\n",
    "    \"\"\"\n",
    "    dateFile = date[:4]+'_'+ date[5:7]\n",
    "    ghi = pd.read_csv(file_path +'/sl_023034_' + dateFile + \".txt\")\n",
    "    timestamp_date_string = Get_timestamp_date_string(dateFile)\n",
    "    separated_ghi_data = Separate_ghi_data(timestamp_date_string, ghi)\n",
    "    ghi_df = separated_ghi_data[date]\n",
    "    res, average_delta_y = Detect_clear_sky_day(ghi_df, 530)\n",
    "\n",
    "    if res:\n",
    "        #clear_sky_days.append(date)\n",
    "        #overall_clear_sky_days_dict[dateFile].append(date)\n",
    "        is_clear_sky_day = True\n",
    "    else:\n",
    "        is_clear_sky_day = False\n",
    "    return is_clear_sky_day\n",
    "\n",
    "# ADJUST FORMATE FOR TIMESTAMP STRINGS\n",
    "def Get_timestamp_date_string(string):\n",
    "    x = string.split(\"_\")\n",
    "    return x[0] + \"-\" + x[1]\n",
    "\n",
    "# LOOK FOR FOR SUDDEN VARIATIONS IN SOLAR INSOLATION DATA WHICH INDICATES LIKELY CLOUD COVER, AS OPPOSED TO CLEAR PARABOLIC SHAPE OF CLEAR SKY DAY GHI CURVES\n",
    "def Detect_clear_sky_day(ghi_df, min_max_ghi):\n",
    "    df_daytime = ghi_df.loc[ghi_df['mean_ghi'] > 0]\n",
    "\n",
    "    collective_change = 0\n",
    "    ghi_list = df_daytime.mean_ghi.tolist()\n",
    "\n",
    "    for i in range(len(ghi_list)-1):\n",
    "        collective_change += abs(ghi_list[i+1] - ghi_list[i])\n",
    "\n",
    "    if len(df_daytime.index) == 0:\n",
    "        return False, 0\n",
    "    \n",
    "    average_delta_y = collective_change/len(df_daytime.index)\n",
    "\n",
    "    if average_delta_y < 5 and max(ghi_df.mean_ghi) > min_max_ghi:\n",
    "        return True, average_delta_y\n",
    "    else:\n",
    "        return False, average_delta_y\n",
    "\n",
    "# SEPARATE THE BoM GHI DATA FILES PER DAY TO SEARCH FOR CLEAR SKY DAYS\n",
    "def Separate_ghi_data(month, ghi):\n",
    "    ghi['ts'] = pd.to_datetime(pd.DataFrame({'year': ghi['Year Month Day Hours Minutes in YYYY'].values,\n",
    "                                                    'month': ghi['MM'],\n",
    "                                                    'day': ghi['DD'],\n",
    "                                                    'hour': ghi['HH24'],\n",
    "                                                    'minute': ghi['MI format in Local standard time']}))\n",
    "    ghi.rename(columns={'Mean global irradiance (over 1 minute) in W/sq m': 'mean_ghi',\n",
    "                        'Minimum 1 second global irradiance (over 1 minute) in W/sq m': 'min_ghi',\n",
    "                        'Maximum 1 second global irradiance (over 1 minute) in W/sq m': 'max_ghi',\n",
    "                        'Standard deviation of global irradiance (over 1 minute) in W/sq m': 'sd_ghi',\n",
    "                        'Uncertainty in mean global irradiance (over 1 minute) in W/sq m': 'uncertainty_ghi'},\n",
    "               inplace=True)\n",
    "    key_ghi_values = ghi[['ts', 'mean_ghi', 'min_ghi', 'max_ghi', 'sd_ghi', 'uncertainty_ghi']].copy()\n",
    "    key_ghi_values['mean_ghi'] = key_ghi_values.apply(lambda row: String_to_Float(row['mean_ghi']), axis=1)\n",
    "    key_ghi_values['min_ghi'] = key_ghi_values.apply(lambda row: String_to_Float(row['min_ghi']), axis=1)\n",
    "    key_ghi_values['max_ghi'] = key_ghi_values.apply(lambda row: String_to_Float(row['max_ghi']), axis=1)\n",
    "\n",
    "\n",
    "    combined_ghi_dict = {}\n",
    "    month_number = int(month.split('-')[1])\n",
    "\n",
    "    for day in range(1, Days_in_month(month_number) + 1):\n",
    "        day_string = str(day)\n",
    "        if day < 10:\n",
    "            day_string = \"0\" + day_string\n",
    "\n",
    "        date = month + \"-\" + day_string\n",
    "        df = key_ghi_values.loc[key_ghi_values['ts'] > date + \" 00:00:01\"]\n",
    "        df = df.loc[key_ghi_values['ts'] < date + \" 23:59:01\"]\n",
    "\n",
    "        combined_ghi_dict[date] = df\n",
    "\n",
    "    return combined_ghi_dict\n",
    "\n",
    "# REMOVE SPACES AND CHECK IF VALUE NULL\n",
    "def String_to_Float(string):\n",
    "    x = string.strip()\n",
    "    if not x:\n",
    "        x = 0\n",
    "    else:\n",
    "        x = float(x)\n",
    "    return x\n",
    "\n",
    "def Days_in_month(month):\n",
    "        switcher = {\n",
    "            1: 31,\n",
    "            2: 29,\n",
    "            3: 31,\n",
    "            4: 30,\n",
    "            5: 31,\n",
    "            6: 30,\n",
    "            7: 31,\n",
    "            8: 31,\n",
    "            9: 30,\n",
    "            10: 31,\n",
    "            11: 30,\n",
    "            12: 31,\n",
    "        }\n",
    "        return switcher.get(month, 0)\n",
    "    \n",
    "def filter_sunrise_sunset(df):\n",
    "    \"\"\"Filter a D-PV Time series data based on its estimated sunrise and sunset time.\n",
    "\n",
    "    Args:\n",
    "    df (df): D-PV Time series data\n",
    "\n",
    "    Returns:\n",
    "    sunrise (timestamp): estimated sunrise time (when power is >10 W for the first time in a day)\n",
    "    sunset (timestamp): the opened ghi data (when power is >10 W for the last time in a day)\n",
    "    df (df): filtered D-PV Time series data\n",
    "    \"\"\"\n",
    "    if df is None or len(df.index) == 0:\n",
    "        return None\n",
    "\n",
    "    tmpDF = df.loc[df['power'] > 10]\n",
    "    if len(tmpDF.index) == 0:\n",
    "        return None\n",
    "\n",
    "    sunrise = tmpDF.index[0]\n",
    "    sunset = tmpDF.index[-1]\n",
    "\n",
    "    df = df.loc[df.index > sunrise]\n",
    "    df = df.loc[df.index < sunset]\n",
    "\n",
    "    return sunrise, sunset, df\n",
    "\n",
    "def filter_power_data(df):\n",
    "    \"\"\"Take the time and power data from D-PV time-series data & filter out curtailment. Will be used for polyfit regression.\n",
    "\n",
    "    Args:\n",
    "    df (df): Time-series D-PV data with power column and timestamp as an index\n",
    "\n",
    "    Returns:\n",
    "    powerArray (pd series): filtered power data\n",
    "    timeArray (pd datetime): filtered timestamp data\n",
    "    \"\"\"\n",
    "    \n",
    "    maxDailyPower = max(df.power)\n",
    "    if len(df.loc[df['power'] == maxDailyPower].index) > 1:\n",
    "        return None, None\n",
    "    \n",
    "    filter_first_half = []\n",
    "    filter_second_half = []\n",
    "    powerArray = df.power\n",
    "    timeArray = df.index\n",
    "    \n",
    "    halfFlag = True  # True is first half, False is second half\n",
    "    last_highest_power = 0\n",
    "    \n",
    "    for power in powerArray:\n",
    "\n",
    "        # IF power IS GREATER THAN last_highest_power THEN INCLUDE power AND INCREASE last_highest_power\n",
    "        if power > last_highest_power:\n",
    "            last_highest_power = power\n",
    "            filter_first_half.append(True)\n",
    "        else:\n",
    "            filter_first_half.append(False)\n",
    "\n",
    "        if power == maxDailyPower:\n",
    "            break\n",
    "            \n",
    "    last_highest_power = 0\n",
    "    \n",
    "    # PERFORM SAME FILTER ON SECOND SIDE OF POWER ARRAY\n",
    "    for power in powerArray.iloc[::-1]:\n",
    "\n",
    "        if power == maxDailyPower:\n",
    "            break\n",
    "\n",
    "        if power > last_highest_power:\n",
    "            last_highest_power = power\n",
    "            filter_second_half.append(True)\n",
    "        else:\n",
    "            filter_second_half.append(False)\n",
    "            \n",
    "    # COMBINE TO FILTERED SIDES\n",
    "    filter_second_half.reverse()\n",
    "    filterArray = filter_first_half + filter_second_half\n",
    "    return powerArray[filterArray], timeArray[filterArray]\n",
    "\n",
    "def FilterDataLimitedGradients(powerArray, timeArray):\n",
    "    \"\"\"Filter the powerArray data so it includes only decreasing gradient (so the shape is parabolic)\n",
    "\n",
    "    Args:\n",
    "    powerArray (pd series): non curtailment filtered power data\n",
    "    timeArray (pd datetime): non curtailment filtered timestamp data\n",
    "\n",
    "    Returns:\n",
    "    powerArray (pd series): gradient filtered power data\n",
    "    timeArray (pd datetime): gradient filtered timestamp data\n",
    "    \n",
    "    Written by Tim\n",
    "    \"\"\"\n",
    "\n",
    "    if powerArray is None:\n",
    "        return None, None\n",
    "\n",
    "    # IN GENERAL ANLGE MUST BE BETWEEN THESE VALUES\n",
    "    angleLowerLimit = 80\n",
    "    angleUpperLimit = 90\n",
    "\n",
    "    # BUT AFTER 'continuanceLimit' CONTINUOUS VALUES HAVE BEEN ACCEPTED, THE LOWER ANGLE LIMIT IS RELAXED TO THIS VALUE BELOW\n",
    "    widerAngleLowerLimit = 70\n",
    "    continuanceLimit = 2\n",
    "\n",
    "    gradients = []\n",
    "    timeGradients = []\n",
    "    powerArray = powerArray.tolist()\n",
    "    timeArray = timeArray.tolist()\n",
    "    filterArray = []\n",
    "\n",
    "    n = len(powerArray)\n",
    "    gradientsCompliance = [0] * n\n",
    "\n",
    "    runningCount = 0\n",
    "\n",
    "    for i in range(1, n):\n",
    "        g = abs(math.degrees(math.atan((powerArray[i] - powerArray[i - 1]) / (\n",
    "                    getSingleDateTime(timeArray[i]) - getSingleDateTime(timeArray[i - 1])))))\n",
    "\n",
    "        addFlag = False\n",
    "\n",
    "        if g > angleLowerLimit and g < angleUpperLimit:\n",
    "            addFlag = True\n",
    "            runningCount += 1\n",
    "\n",
    "        elif runningCount > continuanceLimit and g > widerAngleLowerLimit:\n",
    "            addFlag = True\n",
    "\n",
    "        else:\n",
    "            runningCount = 0\n",
    "\n",
    "        if addFlag:\n",
    "            gradientsCompliance[i - 1] += 1\n",
    "            gradientsCompliance[i] += 1\n",
    "\n",
    "        if g > 85:\n",
    "            gradients.append(g)\n",
    "            timeGradients.append(timeArray[i])\n",
    "\n",
    "    if gradientsCompliance[0] == 1 and gradientsCompliance[1] == 2:\n",
    "        filterArray.append(True)\n",
    "    else:\n",
    "        filterArray.append(False)\n",
    "\n",
    "    for i in range(1, n - 1):\n",
    "        if gradientsCompliance[i] == 2:\n",
    "            filterArray.append(True)\n",
    "        elif gradientsCompliance[i] == 1 and (gradientsCompliance[i - 1] == 2 or gradientsCompliance[i + 1] == 2):\n",
    "            filterArray.append(True)\n",
    "        else:\n",
    "            filterArray.append(False)\n",
    "\n",
    "    if gradientsCompliance[n - 1] == 1 and gradientsCompliance[n - 2] == 2:\n",
    "        filterArray.append(True)\n",
    "    else:\n",
    "        filterArray.append(False)\n",
    "    \n",
    "\n",
    "    powerArray = pd.Series(powerArray)\n",
    "    timeArray = pd.Series(timeArray)\n",
    "\n",
    "    powerArray = powerArray[filterArray]\n",
    "    timeArray = timeArray[filterArray]\n",
    "\n",
    "    return powerArray, timeArray\n",
    "\n",
    "def getSingleDateTime(d):\n",
    "    \"\"\"CONVERT A SINGLE STRING TIMESTAMP TO DATETIME OBJECTS\n",
    "\n",
    "    Args:\n",
    "    d (str): string timestamp\n",
    "\n",
    "    Returns:\n",
    "    daetimeobject\n",
    "    \n",
    "    Written by Tim\n",
    "    \"\"\"\n",
    "    return md.date2num(datetime.strptime(d, '%Y-%m-%d %H:%M:%S'))\n",
    "\n",
    "def getDateTimeList(List):\n",
    "    \"\"\"CONVERT A LIST STRING TIMESTAMP TO DATETIME OBJECTS, THEN CONVERT IT TO FLOAT OF UNIX TIMESTAMPS.\n",
    "    \n",
    "    Args:\n",
    "    List (pd Series) : List of time in str. Example can be timeArray\n",
    "\n",
    "    Returns:\n",
    "    datenums (ndarray) : List of float unix timestamp\n",
    "    \n",
    "    This is used for polyfit preparation. Written by Tim\n",
    "    \"\"\"\n",
    "    # \n",
    "    dates = [datetime.strptime(d, '%Y-%m-%d %H:%M:%S') for d in List]\n",
    "    datenums = md.date2num(dates)\n",
    "    return datenums\n",
    "\n",
    "def GetPolyfit(xArray, yArray, functionDegree):\n",
    "    \"\"\"GET POLYFIT OF DESIRED DEGREE, NEED xArray as float, not dt object\n",
    "\n",
    "    Args:\n",
    "    xArray (ndarray) : List of float unix timestamp\n",
    "    yArray (pd Series): List of power value corresponding to xArray time\n",
    "    functionDegree (int): Degree of polynomial. Quadratic functions means functionDegree = 2\n",
    "\n",
    "    Returns:\n",
    "    polyfit (np poly1d): polyfit model result, containing list of the coefficients and the constant.\n",
    "                        The first, second, and third values are coef of x^2, x, and the constant.\n",
    "    \n",
    "    Written by Tim\n",
    "    \"\"\"\n",
    "     \n",
    "\n",
    "    timestamps = xArray\n",
    "    xp = np.linspace(timestamps[0], timestamps[len(timestamps) - 1], 1000) #IDK what is this for. Seems redudant.\n",
    "    z = np.polyfit(timestamps, yArray, functionDegree)\n",
    "    polyfit = np.poly1d(z)\n",
    "\n",
    "    return polyfit\n",
    "\n",
    "def check_energy_generated(data_site, date):\n",
    "    \"\"\"Get the amount of energy generated in a certain site in a certain day, unit kWh.\n",
    "\n",
    "    Args:\n",
    "        data_site (df): Cleaned D-PV time-series data, output of site_orgaize function\n",
    "        date (str): date in focus\n",
    "\n",
    "    Returns:\n",
    "        energy_generated (float): Single value of the total energy generated in that day\n",
    "    \"\"\"\n",
    "    \n",
    "    #sh_idx = (data_site.index.hour>= 7) & (data_site.index.hour <= 17)\n",
    "    #hour filter should not be necessary since outside of that hour, the power is zero anyway.\n",
    "    \n",
    "    date_dt = dt.datetime.strptime(date, '%Y-%m-%d').date()\n",
    "    date_idx = data_site.index.date == date_dt\n",
    "    energy_generated = data_site.loc[date_idx, 'power'].resample('h').mean().sum()/1000\n",
    "    return energy_generated\n",
    "\n",
    "def check_energy_expected_generated(data_site, date):\n",
    "    \"\"\"Get the amount of expected energy generated in a certain site in a certain day, unit kWh.\n",
    "\n",
    "    Args:\n",
    "        data_site (df): Cleaned D-PV time-series data, with power_expected column\n",
    "        date (str): date in focus\n",
    "\n",
    "    Returns:\n",
    "        energy_generated_expected (float): Single value of the total expected energy generated in that day\n",
    "    \"\"\"\n",
    "    \n",
    "    #sh_idx = (data_site.index.hour>= 7) & (data_site.index.hour <= 17)\n",
    "    #hour filter should not be necessary since outside of that hour, the power is zero anyway.\n",
    "    \n",
    "    date_dt = dt.datetime.strptime(date, '%Y-%m-%d').date()\n",
    "    date_idx = data_site.index.date == date_dt\n",
    "    energy_generated_expected = data_site.loc[date_idx, 'power_expected'].resample('h').mean().sum()/1000\n",
    "    return energy_generated_expected"
   ]
  },
  {
   "cell_type": "code",
   "execution_count": 193,
   "id": "bf8f3ae8",
   "metadata": {
    "scrolled": false
   },
   "outputs": [],
   "source": [
    "file_path = r\"C:\\Users\\samha\\Documents\\CANVAS\\data\"\n",
    "site_details, unique_cids= input_general_files(file_path)\n",
    "sample_filename = '/data_sample_3.csv'\n",
    "\n",
    "data = pd.read_csv(file_path + sample_filename)\n",
    "pd.to_datetime(data['Timestamp'].str.slice(0, 19, 1))\n",
    "data['Timestamp'] = pd.to_datetime(data['Timestamp'].str.slice(0, 19, 1))\n",
    "data.set_index('Timestamp', inplace=True)\n",
    "\n",
    "c_id = data['c_id'][0]\n",
    "date = str(data.index[0])[:10]"
   ]
  },
  {
   "cell_type": "code",
   "execution_count": 194,
   "id": "623819c5",
   "metadata": {},
   "outputs": [],
   "source": [
    "data_site, ac_cap, dc_cap, eff_system, inverter = site_organize(c_id, site_details, data, unique_cids)"
   ]
  },
  {
   "cell_type": "code",
   "execution_count": 195,
   "id": "8ba07e77",
   "metadata": {},
   "outputs": [],
   "source": [
    "def check_polyfit(data_site):\n",
    "    \"\"\"Filter the power data, do polyfit, check its quality, and calculate expected energy generated.\n",
    "\n",
    "    Args:\n",
    "        data_site (df): Cleaned D-PV time-series data\n",
    "\n",
    "    Returns:\n",
    "        polyfit (polyfit) : function to transform map timestamp into expected power without curtailment\n",
    "        is_good_polyfit_quality (bool) : True only if more than 50 actual points are near to polyfit result\n",
    "        energy_generated (float) : calculated energy generated\n",
    "        energy_generated_expected (float): calculated expected generated energy from the polyfit \n",
    "        data_site (df): data_site with expected power column\n",
    "    \"\"\"\n",
    "    data_site.index.rename('ts', inplace = True)\n",
    "\n",
    "    sunrise, sunset, data_site = filter_sunrise_sunset(data_site)\n",
    "    data_site['power_relative'] = data_site['power'] / ac_cap\n",
    "    timestamp_complete = data_site.index\n",
    "    data_site_more_300 = data_site.loc[data_site['power'] > 300]\n",
    "\n",
    "    powerArray, timeArray = filter_power_data(data_site_more_300)\n",
    "    timeArray = timeArray.strftime('%Y-%m-%d %H:%M:%S')\n",
    "    timeArray = timeArray.to_series(index=None, name='None')\n",
    "    powerArray, timeArray = FilterDataLimitedGradients(powerArray, timeArray)\n",
    "\n",
    "    timeArrayFloat = getDateTimeList(timeArray)\n",
    "\n",
    "    polyfit = GetPolyfit(timeArrayFloat, powerArray, 2)\n",
    "\n",
    "    polyfitPowerArray = polyfit(timeArrayFloat)\n",
    "\n",
    "    timestamp = timestamp_complete\n",
    "    timestamp = timestamp.strftime('%Y-%m-%d %H:%M:%S')\n",
    "    timestamp = getDateTimeList(timestamp)\n",
    "    data_site['power_expected'] = polyfit(timestamp)\n",
    "    data_site.loc[data_site['power_expected']<0, 'power_expected'] = 0\n",
    "\n",
    "    #plt.plot(data_site.index, data_site['power'])\n",
    "    #plt.plot(data_site.index, data_site['power_expected'])\n",
    "    #plt.show()\n",
    "\n",
    "    error = abs(data_site['power_expected'] - data_site['power'])\n",
    "    points_near_polyfit_count = error[error<50].count()\n",
    "\n",
    "    if points_near_polyfit_count > 50:\n",
    "        is_good_polyfit_quality = True\n",
    "    else:\n",
    "        is_good_polyfit_quality = False\n",
    "    \n",
    "    return data_site, polyfit, is_good_polyfit_quality"
   ]
  },
  {
   "cell_type": "markdown",
   "id": "b8850a37",
   "metadata": {},
   "source": [
    "based on AS/NZS 4777.2, The VW limit range for Volt-Watt is set at 250V by default in Australia but can be adjusted within a range of 235-255V.\n",
    "So, if a site have maximum voltage point lower than 255 V, it is inconclusive. For example, the maximum voltage point is 250 V and it does not show any VW behaviour from 235-250 V. It may be the case that the inverter will make a VWatt response in any point between 251-255 V.\n",
    "\n",
    "However, if the maximum voltage is lower than 235, we cannot determine whether it has VWatt Response or not, so we will filter it first."
   ]
  },
  {
   "cell_type": "code",
   "execution_count": 196,
   "id": "c107e173",
   "metadata": {},
   "outputs": [],
   "source": [
    "def check_overvoltage_avail(data_site):\n",
    "    '''Check whether the maximum voltage of the data is higher than the minimum Vlimit stated in AS/NZS 4777.2\n",
    "    \n",
    "    Args:\n",
    "        data_site (df): Cleaned D-PV time-series data\n",
    "\n",
    "    Returns:\n",
    "        is_overvoltage_avail (bool) : True only if the maximum voltage of the data is higher \n",
    "                                        than the minimum Vlimit stated in AS/NZS 4777.2\n",
    "    '''\n",
    "    \n",
    "    max_voltage = data_site['voltage'].max()\n",
    "    min_Vlimit = 235\n",
    "    if max_voltage > min_Vlimit:\n",
    "        is_overvoltage_avail = True\n",
    "    else:\n",
    "        is_overvoltage_avail = False\n",
    "    return is_overvoltage_avail"
   ]
  },
  {
   "cell_type": "code",
   "execution_count": 197,
   "id": "356e48ea",
   "metadata": {},
   "outputs": [],
   "source": [
    "def voltWattCurve(v, limit):\n",
    "    \"\"\"VOLT-WATT LIST BASED ON V3 INVERTER SETTING AND VOLTAGE INPUT\n",
    "\n",
    "    Args:\n",
    "        v (float): voltage value\n",
    "        limit (float): voltage value where the maximum allowed power starts decreasing. Could be 235-255 V.\n",
    "\n",
    "    Returns:\n",
    "        (float) : the maximum allowed cf (power/inverter capacity)\n",
    "    \"\"\"\n",
    "    \n",
    "    if v < limit:\n",
    "        return 1\n",
    "    if v < 265:\n",
    "        return (1 - 0.8 * (v - limit) / (265 - limit))\n",
    "    else:\n",
    "        return 0"
   ]
  },
  {
   "cell_type": "code",
   "execution_count": 198,
   "id": "ce088b59",
   "metadata": {},
   "outputs": [],
   "source": [
    "#check if clear sky day. This contains redundant steps like making ghi dict for all days etc, can still be improved.\n",
    "is_clear_sky_day = check_clear_sky_day(date) \n",
    "\n",
    "if not is_clear_sky_day:\n",
    "    vwatt_response = 'Inconclusive due to non clear sky day.'\n",
    "    vwatt_curt_energy = float('nan')\n",
    "    #return vwatt_response, vwatt_curt_energy\n",
    "\n",
    "#check the polyfit quality\n",
    "data_site, polyfit, is_good_polyfit_quality = check_polyfit(data_site)"
   ]
  },
  {
   "cell_type": "code",
   "execution_count": 217,
   "id": "ef8e183a",
   "metadata": {},
   "outputs": [
    {
     "data": {
      "text/plain": [
       "True"
      ]
     },
     "execution_count": 217,
     "metadata": {},
     "output_type": "execute_result"
    }
   ],
   "source": [
    "is_good_polyfit_quality"
   ]
  },
  {
   "cell_type": "code",
   "execution_count": 199,
   "id": "a35993a1",
   "metadata": {},
   "outputs": [],
   "source": [
    "if not is_good_polyfit_quality:\n",
    "    vwatt_response = 'Inconclusive due to poor power data'\n",
    "    vwatt_curt_energy = float('nan')\n",
    "    #return vwatt_response, vwatt_curt_energy\n",
    "\n",
    "#check overvoltage sufficiency\n",
    "is_overvoltage_avail = check_overvoltage_avail(data_site)\n",
    "\n",
    "if not is_overvoltage_avail:\n",
    "    vwatt_response = 'Inconclusive due to insufficient overvoltage datapoint.'\n",
    "    vwatt_curt_energy = float('nan')\n",
    "    #return vwatt_response, vwatt_curt_energy"
   ]
  },
  {
   "cell_type": "code",
   "execution_count": 200,
   "id": "947846cd",
   "metadata": {
    "scrolled": false
   },
   "outputs": [
    {
     "data": {
      "text/html": [
       "<div>\n",
       "<style scoped>\n",
       "    .dataframe tbody tr th:only-of-type {\n",
       "        vertical-align: middle;\n",
       "    }\n",
       "\n",
       "    .dataframe tbody tr th {\n",
       "        vertical-align: top;\n",
       "    }\n",
       "\n",
       "    .dataframe thead th {\n",
       "        text-align: right;\n",
       "    }\n",
       "</style>\n",
       "<table border=\"1\" class=\"dataframe\">\n",
       "  <thead>\n",
       "    <tr style=\"text-align: right;\">\n",
       "      <th></th>\n",
       "      <th>c_id</th>\n",
       "      <th>energy</th>\n",
       "      <th>power</th>\n",
       "      <th>reactive_power</th>\n",
       "      <th>voltage</th>\n",
       "      <th>duration</th>\n",
       "      <th>va</th>\n",
       "      <th>pf</th>\n",
       "      <th>power_relative</th>\n",
       "      <th>power_expected</th>\n",
       "    </tr>\n",
       "    <tr>\n",
       "      <th>ts</th>\n",
       "      <th></th>\n",
       "      <th></th>\n",
       "      <th></th>\n",
       "      <th></th>\n",
       "      <th></th>\n",
       "      <th></th>\n",
       "      <th></th>\n",
       "      <th></th>\n",
       "      <th></th>\n",
       "      <th></th>\n",
       "    </tr>\n",
       "  </thead>\n",
       "  <tbody>\n",
       "    <tr>\n",
       "      <th>2019-08-14 07:03:55</th>\n",
       "      <td>466930914</td>\n",
       "      <td>935</td>\n",
       "      <td>15.583333</td>\n",
       "      <td>63.133333</td>\n",
       "      <td>240.6</td>\n",
       "      <td>60</td>\n",
       "      <td>65.028133</td>\n",
       "      <td>0.239640</td>\n",
       "      <td>0.003117</td>\n",
       "      <td>0.0</td>\n",
       "    </tr>\n",
       "    <tr>\n",
       "      <th>2019-08-14 07:04:55</th>\n",
       "      <td>466930914</td>\n",
       "      <td>1128</td>\n",
       "      <td>18.800000</td>\n",
       "      <td>24.166667</td>\n",
       "      <td>240.3</td>\n",
       "      <td>60</td>\n",
       "      <td>30.618096</td>\n",
       "      <td>0.614016</td>\n",
       "      <td>0.003760</td>\n",
       "      <td>0.0</td>\n",
       "    </tr>\n",
       "    <tr>\n",
       "      <th>2019-08-14 07:05:55</th>\n",
       "      <td>466930914</td>\n",
       "      <td>1409</td>\n",
       "      <td>23.483333</td>\n",
       "      <td>-22.966667</td>\n",
       "      <td>240.1</td>\n",
       "      <td>60</td>\n",
       "      <td>32.847142</td>\n",
       "      <td>0.714928</td>\n",
       "      <td>0.004697</td>\n",
       "      <td>0.0</td>\n",
       "    </tr>\n",
       "    <tr>\n",
       "      <th>2019-08-14 07:06:55</th>\n",
       "      <td>466930914</td>\n",
       "      <td>1815</td>\n",
       "      <td>30.250000</td>\n",
       "      <td>-50.416667</td>\n",
       "      <td>238.5</td>\n",
       "      <td>60</td>\n",
       "      <td>58.795432</td>\n",
       "      <td>0.514496</td>\n",
       "      <td>0.006050</td>\n",
       "      <td>0.0</td>\n",
       "    </tr>\n",
       "    <tr>\n",
       "      <th>2019-08-14 07:07:55</th>\n",
       "      <td>466930914</td>\n",
       "      <td>1969</td>\n",
       "      <td>32.816667</td>\n",
       "      <td>-48.750000</td>\n",
       "      <td>240.5</td>\n",
       "      <td>60</td>\n",
       "      <td>58.766454</td>\n",
       "      <td>0.558425</td>\n",
       "      <td>0.006563</td>\n",
       "      <td>0.0</td>\n",
       "    </tr>\n",
       "    <tr>\n",
       "      <th>...</th>\n",
       "      <td>...</td>\n",
       "      <td>...</td>\n",
       "      <td>...</td>\n",
       "      <td>...</td>\n",
       "      <td>...</td>\n",
       "      <td>...</td>\n",
       "      <td>...</td>\n",
       "      <td>...</td>\n",
       "      <td>...</td>\n",
       "      <td>...</td>\n",
       "    </tr>\n",
       "    <tr>\n",
       "      <th>2019-08-14 17:33:55</th>\n",
       "      <td>466930914</td>\n",
       "      <td>1512</td>\n",
       "      <td>25.200000</td>\n",
       "      <td>-40.666667</td>\n",
       "      <td>240.9</td>\n",
       "      <td>60</td>\n",
       "      <td>47.841590</td>\n",
       "      <td>0.526738</td>\n",
       "      <td>0.005040</td>\n",
       "      <td>0.0</td>\n",
       "    </tr>\n",
       "    <tr>\n",
       "      <th>2019-08-14 17:34:55</th>\n",
       "      <td>466930914</td>\n",
       "      <td>1334</td>\n",
       "      <td>22.233333</td>\n",
       "      <td>-11.016667</td>\n",
       "      <td>241.3</td>\n",
       "      <td>60</td>\n",
       "      <td>24.813062</td>\n",
       "      <td>0.896033</td>\n",
       "      <td>0.004447</td>\n",
       "      <td>0.0</td>\n",
       "    </tr>\n",
       "    <tr>\n",
       "      <th>2019-08-14 17:35:55</th>\n",
       "      <td>466930914</td>\n",
       "      <td>1151</td>\n",
       "      <td>19.183333</td>\n",
       "      <td>18.750000</td>\n",
       "      <td>241.1</td>\n",
       "      <td>60</td>\n",
       "      <td>26.824667</td>\n",
       "      <td>0.715138</td>\n",
       "      <td>0.003837</td>\n",
       "      <td>0.0</td>\n",
       "    </tr>\n",
       "    <tr>\n",
       "      <th>2019-08-14 17:36:55</th>\n",
       "      <td>466930914</td>\n",
       "      <td>977</td>\n",
       "      <td>16.283333</td>\n",
       "      <td>45.516667</td>\n",
       "      <td>239.8</td>\n",
       "      <td>60</td>\n",
       "      <td>48.341637</td>\n",
       "      <td>0.336839</td>\n",
       "      <td>0.003257</td>\n",
       "      <td>0.0</td>\n",
       "    </tr>\n",
       "    <tr>\n",
       "      <th>2019-08-14 17:37:55</th>\n",
       "      <td>466930914</td>\n",
       "      <td>801</td>\n",
       "      <td>13.350000</td>\n",
       "      <td>72.966667</td>\n",
       "      <td>240.1</td>\n",
       "      <td>60</td>\n",
       "      <td>74.177874</td>\n",
       "      <td>0.179973</td>\n",
       "      <td>0.002670</td>\n",
       "      <td>0.0</td>\n",
       "    </tr>\n",
       "  </tbody>\n",
       "</table>\n",
       "<p>634 rows × 10 columns</p>\n",
       "</div>"
      ],
      "text/plain": [
       "                          c_id  energy      power  reactive_power  voltage  \\\n",
       "ts                                                                           \n",
       "2019-08-14 07:03:55  466930914     935  15.583333       63.133333    240.6   \n",
       "2019-08-14 07:04:55  466930914    1128  18.800000       24.166667    240.3   \n",
       "2019-08-14 07:05:55  466930914    1409  23.483333      -22.966667    240.1   \n",
       "2019-08-14 07:06:55  466930914    1815  30.250000      -50.416667    238.5   \n",
       "2019-08-14 07:07:55  466930914    1969  32.816667      -48.750000    240.5   \n",
       "...                        ...     ...        ...             ...      ...   \n",
       "2019-08-14 17:33:55  466930914    1512  25.200000      -40.666667    240.9   \n",
       "2019-08-14 17:34:55  466930914    1334  22.233333      -11.016667    241.3   \n",
       "2019-08-14 17:35:55  466930914    1151  19.183333       18.750000    241.1   \n",
       "2019-08-14 17:36:55  466930914     977  16.283333       45.516667    239.8   \n",
       "2019-08-14 17:37:55  466930914     801  13.350000       72.966667    240.1   \n",
       "\n",
       "                     duration         va        pf  power_relative  \\\n",
       "ts                                                                   \n",
       "2019-08-14 07:03:55        60  65.028133  0.239640        0.003117   \n",
       "2019-08-14 07:04:55        60  30.618096  0.614016        0.003760   \n",
       "2019-08-14 07:05:55        60  32.847142  0.714928        0.004697   \n",
       "2019-08-14 07:06:55        60  58.795432  0.514496        0.006050   \n",
       "2019-08-14 07:07:55        60  58.766454  0.558425        0.006563   \n",
       "...                       ...        ...       ...             ...   \n",
       "2019-08-14 17:33:55        60  47.841590  0.526738        0.005040   \n",
       "2019-08-14 17:34:55        60  24.813062  0.896033        0.004447   \n",
       "2019-08-14 17:35:55        60  26.824667  0.715138        0.003837   \n",
       "2019-08-14 17:36:55        60  48.341637  0.336839        0.003257   \n",
       "2019-08-14 17:37:55        60  74.177874  0.179973        0.002670   \n",
       "\n",
       "                     power_expected  \n",
       "ts                                   \n",
       "2019-08-14 07:03:55             0.0  \n",
       "2019-08-14 07:04:55             0.0  \n",
       "2019-08-14 07:05:55             0.0  \n",
       "2019-08-14 07:06:55             0.0  \n",
       "2019-08-14 07:07:55             0.0  \n",
       "...                             ...  \n",
       "2019-08-14 17:33:55             0.0  \n",
       "2019-08-14 17:34:55             0.0  \n",
       "2019-08-14 17:35:55             0.0  \n",
       "2019-08-14 17:36:55             0.0  \n",
       "2019-08-14 17:37:55             0.0  \n",
       "\n",
       "[634 rows x 10 columns]"
      ]
     },
     "execution_count": 200,
     "metadata": {},
     "output_type": "execute_result"
    }
   ],
   "source": [
    "data_site"
   ]
  },
  {
   "cell_type": "code",
   "execution_count": 201,
   "id": "272320a9",
   "metadata": {},
   "outputs": [
    {
     "data": {
      "text/plain": [
       "<matplotlib.collections.PathCollection at 0x246b5ccf220>"
      ]
     },
     "execution_count": 201,
     "metadata": {},
     "output_type": "execute_result"
    },
    {
     "data": {
      "image/png": "[encoded data removed]",
      "text/plain": [
       "<Figure size 432x288 with 1 Axes>"
      ]
     },
     "metadata": {},
     "output_type": "display_data"
    }
   ],
   "source": [
    "plt.scatter(data_site['voltage'], data_site['power'])"
   ]
  },
  {
   "cell_type": "code",
   "execution_count": 202,
   "id": "e844ee60",
   "metadata": {},
   "outputs": [
    {
     "data": {
      "image/png": "[encoded data removed]",
      "text/plain": [
       "<Figure size 432x288 with 1 Axes>"
      ]
     },
     "metadata": {},
     "output_type": "display_data"
    }
   ],
   "source": [
    "plt.plot(data_site.index, data_site['power'])\n",
    "plt.plot(data_site.index, data_site['power_expected'])\n",
    "plt.show()"
   ]
  },
  {
   "cell_type": "code",
   "execution_count": 203,
   "id": "15901c96",
   "metadata": {},
   "outputs": [],
   "source": [
    "def voltWattCurve(v, limit):\n",
    "    \"\"\"VOLT-WATT LIST BASED ON V3 INVERTER SETTING AND VOLTAGE INPUT\n",
    "\n",
    "    Args:\n",
    "        v (float): voltage value\n",
    "        limit (float): voltage value where the maximum allowed power starts decreasing. Could be 235-255 V.\n",
    "\n",
    "    Returns:\n",
    "        (float) : the maximum allowed cf (power/inverter capacity)\n",
    "    \"\"\"\n",
    "    \n",
    "    if v < limit:\n",
    "        return 1\n",
    "    if v < 265:\n",
    "        return (1 - 0.8 * (v - limit) / (265 - limit))\n",
    "    else:\n",
    "        return 0"
   ]
  },
  {
   "cell_type": "code",
   "execution_count": 204,
   "id": "d9abd361",
   "metadata": {},
   "outputs": [
    {
     "data": {
      "text/plain": [
       "175.00000000000003"
      ]
     },
     "execution_count": 204,
     "metadata": {},
     "output_type": "execute_result"
    }
   ],
   "source": [
    "0.035 * ac_cap"
   ]
  },
  {
   "cell_type": "code",
   "execution_count": 215,
   "id": "1908bd60",
   "metadata": {},
   "outputs": [],
   "source": [
    "def check_vwatt_response(data_site):\n",
    "    \"\"\"Check whether the inverter shows vwatt response or not.\n",
    "    \n",
    "    This function will be done in a loop over Vlimit 235 - 255 V.\n",
    "    Steps:\n",
    "    1. Make a power limit value based on VW curve\n",
    "    2. Filter voltage and power, which is curtailed (expected power from polyfit is higher than allowed voltage)\n",
    "    3. Count the percentage of datapoints from previous step in the buffer range of VWatt curve\n",
    "    4. If the percentage from the previous step is higher than certain limit, we say it shows VWatt response.\n",
    "\n",
    "    Args:\n",
    "        data_site (df) : D-PV time series data\n",
    "        polyfit(polyfit): a funciton to map timestamp value to expected power without curtailment\n",
    "\n",
    "    Returns:\n",
    "        vwatt_response (str) : Yes, None, or Inconclusive due to insufficient overvoltage datapoint.\n",
    "        \n",
    "    TODO: \n",
    "    1. Reassess whether it is necessary to determine VWatt using count and gradient threshold\n",
    "    2. Test for non VWatt sample & inconclusive sample\n",
    "    \"\"\"\n",
    "    \n",
    "    #for Vlimit in list(range (246, 258)): #This is from Tim. Tim's range is different, which IDK why.\n",
    "    best_percentage = 0 #initiation\n",
    "    for Vlimit in list(range (235, 256)):\n",
    "        #step 1. Make a power limit value based on VW curve\n",
    "        data_site['power_limit_vw'] = data_site['voltage'].apply(voltWattCurve, limit = Vlimit) * ac_cap\n",
    "\n",
    "        #step 2. Filter voltage and power, which is curtailed (expected power from polyfit is higher than allowed voltage)\n",
    "        suspect_data_filter = data_site['power_limit_vw'] < data_site['power_expected'] \n",
    "        suspect_data = data_site[suspect_data_filter]\n",
    "\n",
    "        #step 3. Count the percentage of datapoints from previous step in the buffer range of VWatt curve\n",
    "        \n",
    "        #create the buffer range\n",
    "        BUFFER_HIGH_VAL =  70 #This is from Tim's thesis. In Tim's program the used value is 0.035 * ac_cap but IDK it doesn't work well.\n",
    "        BUFFER_LOW_VAL = 70  #This is from Tim's thesis. In Tim's program the used value is 0.08 * ac_cap but IDK it doesn't work well.\n",
    "        buffer_high_filter = suspect_data['power_relative'] > 0.9\n",
    "        buffer_low_filter = ~buffer_high_filter\n",
    "        \n",
    "        pd.options.mode.chained_assignment = None  # default='warn'\n",
    "        suspect_data.loc[buffer_high_filter, 'power_limit_upper'] = suspect_data['power_limit_vw'] + BUFFER_HIGH_VAL\n",
    "        suspect_data.loc[buffer_high_filter, 'power_limit_lower'] = suspect_data['power_limit_vw'] - BUFFER_HIGH_VAL\n",
    "    \n",
    "        suspect_data.loc[buffer_low_filter, 'power_limit_upper'] = suspect_data['power_limit_vw'] + BUFFER_LOW_VAL\n",
    "        suspect_data.loc[buffer_low_filter, 'power_limit_lower'] = suspect_data['power_limit_vw'] - BUFFER_LOW_VAL\n",
    "        \n",
    "        #count points in buffer\n",
    "        is_low_ok = suspect_data['power_limit_lower'] < suspect_data['power']\n",
    "        is_upp_ok = suspect_data['power'] < suspect_data['power_limit_upper']\n",
    "        suspect_data['is_in_buffer_range'] = is_low_ok & is_upp_ok\n",
    "        count_in_buffer_range = suspect_data['is_in_buffer_range'].values.sum() #count true in a col\n",
    "        percentage_in_buffer_range = count_in_buffer_range / len(suspect_data) * 100\n",
    "        \n",
    "        #put the best VWLimit stats\n",
    "        if percentage_in_buffer_range > best_percentage or best_percentage == 0:\n",
    "            best_percentage = percentage_in_buffer_range\n",
    "            best_Vlimit = Vlimit\n",
    "            \n",
    "    #step 4. If the percentage from the previous step is higher than certain limit, we say it shows VWatt response.\n",
    "    PERCENTAGE_THRESHOLD = 84\n",
    "    print(best_percentage)\n",
    "    if best_percentage > PERCENTAGE_THRESHOLD: #Tim uses count threshold and gradient threshold. I am not sure whether it is necessary.\n",
    "        vwatt_response = 'Yes'\n",
    "        energy_generated = check_energy_generated(data_site, date)\n",
    "        energy_generated_expected = check_energy_expected_generated(data_site, date)\n",
    "        vwatt_curt_energy = energy_generated_expected - energy_generated\n",
    "    elif suspect_data['voltage'].max() < 255:\n",
    "        vwatt_response = 'Inconclusive due to insufficient data points'\n",
    "        vwatt_curt_energy = float('nan')\n",
    "    else: #no Vlimit results a good fit in all possible Vlimit value\n",
    "        vwatt_response = 'None'\n",
    "        vwatt_curt_energy = 0\n",
    "            \n",
    "    return vwatt_response, vwatt_curt_energy"
   ]
  },
  {
   "cell_type": "code",
   "execution_count": 216,
   "id": "b50f5405",
   "metadata": {
    "scrolled": true
   },
   "outputs": [
    {
     "name": "stdout",
     "output_type": "stream",
     "text": [
      "69.47368421052632\n"
     ]
    },
    {
     "name": "stderr",
     "output_type": "stream",
     "text": [
      "C:\\Users\\samha\\AppData\\Local\\Temp\\ipykernel_2968\\1835198949.py:53: RuntimeWarning: invalid value encountered in long_scalars\n",
      "  percentage_in_buffer_range = count_in_buffer_range / len(suspect_data) * 100\n",
      "C:\\Users\\samha\\AppData\\Local\\Temp\\ipykernel_2968\\1835198949.py:53: RuntimeWarning: invalid value encountered in long_scalars\n",
      "  percentage_in_buffer_range = count_in_buffer_range / len(suspect_data) * 100\n",
      "C:\\Users\\samha\\AppData\\Local\\Temp\\ipykernel_2968\\1835198949.py:53: RuntimeWarning: invalid value encountered in long_scalars\n",
      "  percentage_in_buffer_range = count_in_buffer_range / len(suspect_data) * 100\n",
      "C:\\Users\\samha\\AppData\\Local\\Temp\\ipykernel_2968\\1835198949.py:53: RuntimeWarning: invalid value encountered in long_scalars\n",
      "  percentage_in_buffer_range = count_in_buffer_range / len(suspect_data) * 100\n",
      "C:\\Users\\samha\\AppData\\Local\\Temp\\ipykernel_2968\\1835198949.py:53: RuntimeWarning: invalid value encountered in long_scalars\n",
      "  percentage_in_buffer_range = count_in_buffer_range / len(suspect_data) * 100\n",
      "C:\\Users\\samha\\AppData\\Local\\Temp\\ipykernel_2968\\1835198949.py:53: RuntimeWarning: invalid value encountered in long_scalars\n",
      "  percentage_in_buffer_range = count_in_buffer_range / len(suspect_data) * 100\n"
     ]
    }
   ],
   "source": [
    "#4. put algorithm to check vwatt-response here\n",
    "vwatt_response, vwatt_curt_energy = check_vwatt_response(data_site)"
   ]
  },
  {
   "cell_type": "code",
   "execution_count": 207,
   "id": "4bf421e2",
   "metadata": {},
   "outputs": [
    {
     "data": {
      "text/plain": [
       "466930914"
      ]
     },
     "execution_count": 207,
     "metadata": {},
     "output_type": "execute_result"
    }
   ],
   "source": [
    "c_id"
   ]
  },
  {
   "cell_type": "code",
   "execution_count": 208,
   "id": "7430e2e4",
   "metadata": {
    "scrolled": true
   },
   "outputs": [
    {
     "data": {
      "text/plain": [
       "'2019-08-14'"
      ]
     },
     "execution_count": 208,
     "metadata": {},
     "output_type": "execute_result"
    }
   ],
   "source": [
    "date"
   ]
  },
  {
   "cell_type": "code",
   "execution_count": 209,
   "id": "13aa1803",
   "metadata": {},
   "outputs": [
    {
     "data": {
      "text/plain": [
       "19.392630592337568"
      ]
     },
     "execution_count": 209,
     "metadata": {},
     "output_type": "execute_result"
    }
   ],
   "source": [
    "check_energy_expected_generated(data_site, date)"
   ]
  },
  {
   "cell_type": "code",
   "execution_count": 210,
   "id": "6e1bc52a",
   "metadata": {},
   "outputs": [
    {
     "data": {
      "text/plain": [
       "18.984334885023294"
      ]
     },
     "execution_count": 210,
     "metadata": {},
     "output_type": "execute_result"
    }
   ],
   "source": [
    "check_energy_generated(data_site,date)"
   ]
  },
  {
   "cell_type": "code",
   "execution_count": 211,
   "id": "1fc447d3",
   "metadata": {},
   "outputs": [
    {
     "data": {
      "text/plain": [
       "'None'"
      ]
     },
     "execution_count": 211,
     "metadata": {},
     "output_type": "execute_result"
    }
   ],
   "source": [
    "vwatt_response"
   ]
  },
  {
   "cell_type": "code",
   "execution_count": 192,
   "id": "5b93b48e",
   "metadata": {},
   "outputs": [
    {
     "data": {
      "text/plain": [
       "0"
      ]
     },
     "execution_count": 192,
     "metadata": {},
     "output_type": "execute_result"
    }
   ],
   "source": [
    "vwatt_curt_energy"
   ]
  },
  {
   "cell_type": "markdown",
   "id": "525e54f4",
   "metadata": {},
   "source": [
    "# POLYFIT BUG FOR SAMPLE 3"
   ]
  },
  {
   "cell_type": "code",
   "execution_count": null,
   "id": "5e4c314a",
   "metadata": {},
   "outputs": [],
   "source": [
    "sample_filename = '/data_sample_3.csv'\n",
    "\n",
    "data = pd.read_csv(file_path + sample_filename)\n",
    "pd.to_datetime(data['Timestamp'].str.slice(0, 19, 1))\n",
    "data['Timestamp'] = pd.to_datetime(data['Timestamp'].str.slice(0, 19, 1))\n",
    "data.set_index('Timestamp', inplace=True)\n",
    "\n",
    "c_id = data['c_id'][0]\n",
    "date = str(data.index[0])[:10]"
   ]
  },
  {
   "cell_type": "code",
   "execution_count": 245,
   "id": "e7c4e61f",
   "metadata": {},
   "outputs": [],
   "source": [
    "data_site, ac_cap, dc_cap, eff_system, inverter = site_organize(c_id, site_details, data, unique_cids)\n",
    "data_site['cf'] = data_site['power']/ac_cap"
   ]
  },
  {
   "cell_type": "code",
   "execution_count": 248,
   "id": "69ae09a3",
   "metadata": {
    "scrolled": true
   },
   "outputs": [],
   "source": [
    "data_site.index.rename('ts', inplace = True)"
   ]
  },
  {
   "cell_type": "code",
   "execution_count": 249,
   "id": "6019865b",
   "metadata": {},
   "outputs": [],
   "source": [
    "sunrise, sunset, data_site = filter_sunrise_sunset(data_site)\n",
    "data_site = data_site.loc[data_site['power'] > 300]"
   ]
  },
  {
   "cell_type": "code",
   "execution_count": 268,
   "id": "5af8f92b",
   "metadata": {},
   "outputs": [],
   "source": [
    "powerArray, timeArray = filter_power_data(data_site)"
   ]
  },
  {
   "cell_type": "code",
   "execution_count": 259,
   "id": "e6fb4147",
   "metadata": {
    "scrolled": true
   },
   "outputs": [],
   "source": [
    "timeArray = timeArray.strftime('%Y-%m-%d %H:%M:%S')\n",
    "timeArray = timeArray.to_series(index=None, name='None')\n",
    "powerArray, timeArray = FilterDataLimitedGradients(powerArray, timeArray)"
   ]
  },
  {
   "cell_type": "code",
   "execution_count": 186,
   "id": "69498a5c",
   "metadata": {
    "scrolled": true
   },
   "outputs": [],
   "source": [
    "timeArrayFloat = getDateTimeList(timeArray)"
   ]
  },
  {
   "cell_type": "code",
   "execution_count": 199,
   "id": "28074973",
   "metadata": {},
   "outputs": [],
   "source": [
    "polyfit = GetPolyfit(timeArrayFloat, powerArray, 2)"
   ]
  },
  {
   "cell_type": "code",
   "execution_count": 209,
   "id": "f4d2e10d",
   "metadata": {},
   "outputs": [],
   "source": [
    "polyfitPowerArray = polyfit(timeArrayFloat)"
   ]
  },
  {
   "cell_type": "code",
   "execution_count": 280,
   "id": "d9931e9d",
   "metadata": {},
   "outputs": [],
   "source": [
    "timestamp = data_site.index\n",
    "timestamp = timestamp.strftime('%Y-%m-%d %H:%M:%S')\n",
    "timestamp = getDateTimeList(timestamp)\n",
    "maxPowerArray = polyfit(timestamp)"
   ]
  },
  {
   "cell_type": "code",
   "execution_count": 288,
   "id": "a7277972",
   "metadata": {
    "scrolled": true
   },
   "outputs": [
    {
     "data": {
      "text/plain": [
       "[<matplotlib.lines.Line2D at 0x281ec0006d0>]"
      ]
     },
     "execution_count": 288,
     "metadata": {},
     "output_type": "execute_result"
    },
    {
     "data": {
      "image/png": "[encoded data removed]",
      "text/plain": [
       "<Figure size 432x288 with 1 Axes>"
      ]
     },
     "metadata": {},
     "output_type": "display_data"
    }
   ],
   "source": [
    "plt.plot(data_site.index, data_site['power'])\n",
    "plt.plot(data_site.index, maxPowerArray)"
   ]
  },
  {
   "cell_type": "code",
   "execution_count": 291,
   "id": "e0f5e87d",
   "metadata": {},
   "outputs": [],
   "source": [
    "error = abs(maxPowerArray - data_site['power'])"
   ]
  },
  {
   "cell_type": "code",
   "execution_count": 293,
   "id": "2ec3d98b",
   "metadata": {},
   "outputs": [
    {
     "data": {
      "text/plain": [
       "37"
      ]
     },
     "execution_count": 293,
     "metadata": {},
     "output_type": "execute_result"
    }
   ],
   "source": [
    "error[error<50].count()"
   ]
  },
  {
   "cell_type": "markdown",
   "id": "bb28b0ae",
   "metadata": {},
   "source": [
    "This sucks. The polyfit doesn't work as expected. Let's try to use other datasample, which is used by Tim."
   ]
  },
  {
   "cell_type": "markdown",
   "id": "5aa018bb",
   "metadata": {},
   "source": [
    "# MESSY BELOW"
   ]
  }
 ],
 "metadata": {
  "kernelspec": {
   "display_name": "Python 3 (base)",
   "language": "python",
   "name": "python3"
  },
  "language_info": {
   "codemirror_mode": {
    "name": "ipython",
    "version": 3
   },
   "file_extension": ".py",
   "mimetype": "text/x-python",
   "name": "python",
   "nbconvert_exporter": "python",
   "pygments_lexer": "ipython3",
   "version": "3.9.12"
  }
 },
 "nbformat": 4,
 "nbformat_minor": 5
}
