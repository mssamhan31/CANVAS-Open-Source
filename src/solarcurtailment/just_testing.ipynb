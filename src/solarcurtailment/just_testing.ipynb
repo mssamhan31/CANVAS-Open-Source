{
 "cells": [
  {
   "cell_type": "code",
   "execution_count": 2,
   "id": "3a290197",
   "metadata": {},
   "outputs": [],
   "source": [
    "import solarcurtailment"
   ]
  },
  {
   "cell_type": "code",
   "execution_count": 3,
   "id": "9ca8cc0c",
   "metadata": {
    "scrolled": true
   },
   "outputs": [
    {
     "data": {
      "text/plain": [
       "<function solarcurtailment.compute(file_path, data_file, ghi_file)>"
      ]
     },
     "execution_count": 3,
     "metadata": {},
     "output_type": "execute_result"
    }
   ],
   "source": [
    "solarcurtailment.compute"
   ]
  }
 ],
 "metadata": {
  "kernelspec": {
   "display_name": "Python 3 (base)",
   "language": "python",
   "name": "python3"
  },
  "language_info": {
   "codemirror_mode": {
    "name": "ipython",
    "version": 3
   },
   "file_extension": ".py",
   "mimetype": "text/x-python",
   "name": "python",
   "nbconvert_exporter": "python",
   "pygments_lexer": "ipython3",
   "version": "3.9.12"
  }
 },
 "nbformat": 4,
 "nbformat_minor": 5
}
