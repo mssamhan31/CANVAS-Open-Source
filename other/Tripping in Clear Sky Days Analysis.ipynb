{
 "cells": [
  {
   "cell_type": "markdown",
   "id": "f82eb4ab",
   "metadata": {},
   "source": [
    "# IMPORT MODULES & FUNCTIONS"
   ]
  },
  {
   "cell_type": "code",
   "execution_count": 13,
   "id": "d47d9527",
   "metadata": {},
   "outputs": [],
   "source": [
    "#IMPORT PACKAGES\n",
    "import pandas as pd\n",
    "import matplotlib.pyplot as plt\n",
    "import numpy as np\n",
    "import datetime as dt\n",
    "import pytz #for timezone calculation\n",
    "import math\n",
    "import matplotlib.dates as md\n",
    "import gc\n",
    "import os\n",
    "from datetime import datetime\n",
    "import calendar\n",
    "import seaborn as sns; sns.set()\n",
    "import itertools\n",
    "#import datetime\n",
    "from time import gmtime, strftime\n",
    "from matplotlib import cm\n",
    "from IPython.display import display\n",
    "#%matplotlib qt\n",
    "#%matplotlib inline\n",
    "\n",
    "#SET GLOBAL PARAMETERS\n",
    "# ================== Global parameters for fonts & sizes =================\n",
    "FONT_SIZE = 20\n",
    "rc={'font.size': FONT_SIZE, 'axes.labelsize': FONT_SIZE, 'legend.fontsize': FONT_SIZE, \n",
    "    'axes.titlesize': FONT_SIZE, 'xtick.labelsize': FONT_SIZE, 'ytick.labelsize': FONT_SIZE}\n",
    "plt.rcParams.update(**rc)\n",
    "plt.rc('font', weight='bold')\n",
    " \n",
    "# For label titles\n",
    "fontdict={'fontsize': FONT_SIZE, 'fontweight' : 'bold'}\n",
    "# can add in above dictionary: 'verticalalignment': 'baseline' \n",
    "\n",
    "style = 'ggplot' # choose a style from the above options\n",
    "plt.style.use(style)"
   ]
  },
  {
   "cell_type": "code",
   "execution_count": 33,
   "id": "6bed2c4c",
   "metadata": {},
   "outputs": [],
   "source": [
    "from solarcurtailment.energy_calculation import *\n",
    "from solarcurtailment.clear_sky_day import *\n",
    "from solarcurtailment.tripping_curt import *\n",
    "from solarcurtailment.vvar_curt import *\n",
    "from solarcurtailment.vwatt_curt import *\n",
    "from solarcurtailment.polyfit import *\n",
    "from solarcurtailment.file_processing import *\n",
    "from solarcurtailment.data_visualization import *"
   ]
  },
  {
   "cell_type": "code",
   "execution_count": 35,
   "id": "362a8f26",
   "metadata": {},
   "outputs": [],
   "source": [
    "#class instantiation\n",
    "file_processing = FileProcessing()\n",
    "clear_sky_day = ClearSkyDay()\n",
    "data_visualization = DataVisualization()\n",
    "energy_calculation = EnergyCalculation()\n",
    "tripping_curt = TrippingCurt()\n",
    "polyfit_f = Polyfit()\n",
    "vvar_curt = VVarCurt()\n",
    "vwatt_curt = VWattCurt()"
   ]
  },
  {
   "cell_type": "code",
   "execution_count": 11,
   "id": "baa155be",
   "metadata": {},
   "outputs": [],
   "source": [
    "#from FileProcessing \n",
    "def input_monthly_files(file_path, data_date_idx):\n",
    "    \"\"\"Open time-series D-PV data and ghi data of a certain month. Only compatible for SoLA data format.\n",
    "\n",
    "    Args:\n",
    "        file_path (str): The file location of the data\n",
    "        data_date_idx (str): The month of the files in format 'YYYYMM' eg '201907'\n",
    "\n",
    "    Returns:\n",
    "        data (df): the opened & cleaned time-series D-PV data\n",
    "        ghi (df): the opened & cleaned ghi data\n",
    "        data_ori (df): the opened & unmodified time-series D-PV data\n",
    "        ghi_ori (df): the opened & unmodified ghi data\n",
    "    \"\"\"\n",
    "    \n",
    "    data_path = file_path + r\"/processed_unsw_\" + data_date_idx + '_data_raw.csv'\n",
    "    data_ori = pd.read_csv(data_path)\n",
    "    data = data_ori.set_index('utc_tstamp')\n",
    "\n",
    "    # Convert timestamp to local Adelaide time\n",
    "    data.index = pd.to_datetime(data.index) # convert index from object type to datetime\n",
    "    Adelaide_local_time = pytz.timezone('Australia/Adelaide')\n",
    "    data.index = data.index.tz_localize(pytz.utc).tz_convert(Adelaide_local_time) # convert utc to local adelaide time\n",
    "    data.index.rename('Timestamp', inplace = True)\n",
    "\n",
    "    # Load GHI data\n",
    "    ghi_date_idx = data_date_idx[0:4] + '_' + data_date_idx[4:]\n",
    "    ghi_path = file_path + r\"/sl_023034_\" + ghi_date_idx +'.txt'\n",
    "    ghi = pd.read_csv (ghi_path) \n",
    "    ghi_ori = ghi.copy()\n",
    "\n",
    "    ghi['timestamp'] = pd.to_datetime(pd.DataFrame ({'year' : ghi['Year Month Day Hours Minutes in YYYY'].values, \n",
    "                                                    'month' : ghi['MM'], \n",
    "                                                    'day' : ghi['DD'], \n",
    "                                                   'hour' : ghi['HH24'], \n",
    "                                                   'minute' : ghi['MI format in Local standard time']}))\n",
    "    ghi.set_index('timestamp', inplace = True)\n",
    "    # Deal with the space characters (ghi is in object/string form at the moment)\n",
    "    ghi['Mean global irradiance (over 1 minute) in W/sq m'] = [float(ghi_t) if ghi_t.count(' ')<= 3 else np.nan for ghi_t in ghi['Mean global irradiance (over 1 minute) in W/sq m']]\n",
    "    return data, ghi, data_ori, ghi_ori"
   ]
  },
  {
   "cell_type": "markdown",
   "id": "a95f5fb1",
   "metadata": {},
   "source": [
    "# CHECK ALL CLEAR SKY DAYS DATE\n",
    "Find list of all dates which are clear sky days (csd). This result is obtained from Tim's script"
   ]
  },
  {
   "cell_type": "code",
   "execution_count": 64,
   "id": "538ff25c",
   "metadata": {},
   "outputs": [],
   "source": [
    "csd_201909 = ['2019-09-12', '2019-09-17', '2019-09-18', '2019-09-26', '2019-09-29', '2019-09-30']\n",
    "csd_201910 = ['2019-10-01', '2019-10-02', '2019-10-03', '2019-10-29']\n",
    "csd_201911 = ['2019-11-18', '2019-11-27']\n",
    "csd_201912 = ['2019-12-16', '2019-12-19', '2019-12-25', '2019-12-28']\n",
    "csd_202001 = ['2020-01-01', '2020-01-02', '2020-01-06', '2020-01-07', '2020-01-08', '2020-01-12', '2020-01-13', '2020-01-14', '2020-01-17', '2020-01-29', '2020-01-30']\n",
    "csd_202002 = ['2020-02-04', '2020-02-05', '2020-02-06', '2020-02-10', '2020-02-11', '2020-02-13', '2020-02-22', '2020-02-23']\n",
    "csd_202003 = ['2020-03-03', '2020-03-08', '2020-03-10', '2020-03-14', '2020-03-15', '2020-03-25', '2020-03-26']\n",
    "csd_202004 = ['2020-04-08', '2020-04-09', '2020-04-13', '2020-04-24']"
   ]
  },
  {
   "cell_type": "code",
   "execution_count": 66,
   "id": "b5193e31",
   "metadata": {},
   "outputs": [],
   "source": [
    "csd_list = csd_201909 + csd_201910 + csd_201911 + csd_201912 + csd_202001 + csd_202002 + csd_202003 + csd_202004"
   ]
  },
  {
   "cell_type": "markdown",
   "id": "0cc2437f",
   "metadata": {},
   "source": [
    "# INPUT ALL MONTHLY DATA"
   ]
  },
  {
   "cell_type": "code",
   "execution_count": 14,
   "id": "15458787",
   "metadata": {
    "scrolled": true
   },
   "outputs": [
    {
     "name": "stdout",
     "output_type": "stream",
     "text": [
      "processing 201909 ...\n",
      "processing 201910 ...\n",
      "processing 201911 ...\n",
      "processing 201912 ...\n",
      "processing 202001 ...\n",
      "processing 202002 ...\n",
      "processing 202003 ...\n",
      "processing 202004 ...\n"
     ]
    }
   ],
   "source": [
    "file_path = r\"/Users/samhan/Downloads/data\" #for running in Samhan's laptop\n",
    "month_list = ['201909', '201910', '201911', '201912', '202001', '202002', '202003', '202004']\n",
    "data = {}\n",
    "data_ori = {}\n",
    "ghi = {}\n",
    "ghi_ori = {}\n",
    "for month in month_list:\n",
    "    print('processing {} ...'.format(month))\n",
    "    data[month], ghi[month], data_ori[month], ghi_ori[month] = input_monthly_files(file_path, month)"
   ]
  },
  {
   "cell_type": "markdown",
   "id": "a7253561",
   "metadata": {},
   "source": [
    "# INPUT GENERAL FILES"
   ]
  },
  {
   "cell_type": "code",
   "execution_count": 36,
   "id": "82b91b5b",
   "metadata": {},
   "outputs": [],
   "source": [
    "site_details, unique_cids= file_processing.input_general_files(file_path)"
   ]
  },
  {
   "cell_type": "markdown",
   "id": "19aaa920",
   "metadata": {},
   "source": [
    "# TEST FOR A DAY AND A SITE"
   ]
  },
  {
   "cell_type": "code",
   "execution_count": 54,
   "id": "b21a1812",
   "metadata": {},
   "outputs": [],
   "source": [
    "c_id = 2084803628\n",
    "date = '2020-01-17'\n",
    "date_dt = dt.datetime.strptime(date, '%Y-%m-%d').date()\n",
    "month_analyzed = date[:4] + date [5:7]\n",
    "\n",
    "date_filter = data[month_analyzed].index.date == date_dt\n",
    "site_id_filter = data[month_analyzed]['c_id'] == c_id\n",
    "data_analyzed = data[month_analyzed].loc[date_filter & site_id_filter]\n",
    "\n",
    "size_is_ok = file_processing.check_data_size(data_analyzed)\n",
    "if not size_is_ok:\n",
    "    print('Cannot analyze {} site on {} due to incomplete data.'.format(c_id, date))\n",
    "else:\n",
    "    data_site, ac_cap, dc_cap, EFF_SYSTEM, inverter = vvar_curt.site_organize(c_id, site_details, data_analyzed, unique_cids)\n",
    "    data_site = file_processing.resample_in_minute(data_site)\n",
    "    data_site, polyfit, is_good_polyfit_quality = polyfit_f.check_polyfit(data_site, ac_cap)\n",
    "    is_clear_sky_day = True #because the date is already chosen which is a clear sky day\n",
    "    tripping_response, tripping_curt_energy, estimation_method, data_site = tripping_curt.check_tripping_curtailment(is_clear_sky_day, c_id, data_site, unique_cids, ac_cap, site_details, date)    \n",
    "    energy_generated, data_site = energy_calculation.check_energy_generated(data_site, date, is_clear_sky_day, tripping_curt_energy)"
   ]
  },
  {
   "cell_type": "markdown",
   "id": "37652bbc",
   "metadata": {},
   "source": [
    "# LOOP OVER ALL SITES"
   ]
  },
  {
   "cell_type": "markdown",
   "id": "3adf749c",
   "metadata": {},
   "source": [
    "Get a DF consisting of\n",
    "1. sites\n",
    "2. total generation (kWh)\n",
    "3. total tripping curtailment (kWh)\n",
    "4. percentage of tripping curtailment (%)\n",
    "5. number of clear sky days\n",
    "6. number of days with tripping curtailment"
   ]
  },
  {
   "cell_type": "markdown",
   "id": "a8143e28",
   "metadata": {},
   "source": [
    "Pseudoalgorithm\n",
    "\n",
    "input all monthly data\n",
    "\n",
    "for all sites:\n",
    "    count_curtailment = 0\n",
    "    total_generation = 0\n",
    "    tripping_curtailment = 0\n",
    "    for days in clear sky days:\n",
    "        filter the data into certain day and certain site\n",
    "        check total generation, add\n",
    "        check tripping curtailment\n",
    "        if tripping curtailment occurs:\n",
    "            calculate the curtailment\n",
    "            count_curtailment += 1\n",
    "        else\n",
    "            tripping curtailment = 0\n",
    "    concat result\n",
    "make summary spreadsheet\n",
    "make plot"
   ]
  },
  {
   "cell_type": "code",
   "execution_count": 69,
   "id": "b059e2d6",
   "metadata": {},
   "outputs": [],
   "source": [
    "summary = pd.DataFrame()"
   ]
  },
  {
   "cell_type": "code",
   "execution_count": 79,
   "id": "d1845b80",
   "metadata": {
    "scrolled": true
   },
   "outputs": [
    {
     "name": "stdout",
     "output_type": "stream",
     "text": [
      "Analyzing c_id 1700492033 date 2019-09-12 ...\n",
      "Analyzing c_id 1700492033 date 2019-09-17 ...\n"
     ]
    },
    {
     "name": "stderr",
     "output_type": "stream",
     "text": [
      "/Users/samhan/opt/anaconda3/lib/python3.9/site-packages/solarcurtailment/tripping_curt.py:645: SettingWithCopyWarning: \n",
      "A value is trying to be set on a copy of a slice from a DataFrame.\n",
      "Try using .loc[row_indexer,col_indexer] = value instead\n",
      "\n",
      "See the caveats in the documentation: https://pandas.pydata.org/pandas-docs/stable/user_guide/indexing.html#returning-a-view-versus-a-copy\n",
      "  data_df['non_clear_sky_day_flag'] = 0\n",
      "/Users/samhan/opt/anaconda3/lib/python3.9/site-packages/solarcurtailment/tripping_curt.py:681: SettingWithCopyWarning: \n",
      "A value is trying to be set on a copy of a slice from a DataFrame.\n",
      "Try using .loc[row_indexer,col_indexer] = value instead\n",
      "\n",
      "See the caveats in the documentation: https://pandas.pydata.org/pandas-docs/stable/user_guide/indexing.html#returning-a-view-versus-a-copy\n",
      "  test['polynomial_fit'] = z[0]*test['time_in_seconds']*test['time_in_seconds'] + \\\n",
      "/Users/samhan/opt/anaconda3/lib/python3.9/site-packages/solarcurtailment/tripping_curt.py:690: SettingWithCopyWarning: \n",
      "A value is trying to be set on a copy of a slice from a DataFrame.\n",
      "Try using .loc[row_indexer,col_indexer] = value instead\n",
      "\n",
      "See the caveats in the documentation: https://pandas.pydata.org/pandas-docs/stable/user_guide/indexing.html#returning-a-view-versus-a-copy\n",
      "  test['ones'] = 1\n",
      "/Users/samhan/opt/anaconda3/lib/python3.9/site-packages/solarcurtailment/tripping_curt.py:693: FutureWarning: `rcond` parameter will change to the default of machine precision times ``max(M, N)`` where M and N are the input matrix dimensions.\n",
      "To use the future default and silence this warning we advise to pass `rcond=None`, to keep using the old, explicitly pass `rcond=-1`.\n",
      "  m,c = np.linalg.lstsq(A,y)[0]\n",
      "/Users/samhan/opt/anaconda3/lib/python3.9/site-packages/solarcurtailment/tripping_curt.py:694: SettingWithCopyWarning: \n",
      "A value is trying to be set on a copy of a slice from a DataFrame.\n",
      "Try using .loc[row_indexer,col_indexer] = value instead\n",
      "\n",
      "See the caveats in the documentation: https://pandas.pydata.org/pandas-docs/stable/user_guide/indexing.html#returning-a-view-versus-a-copy\n",
      "  test['y_line'] = c + m*test['cf']\n",
      "/Users/samhan/opt/anaconda3/lib/python3.9/site-packages/solarcurtailment/tripping_curt.py:698: SettingWithCopyWarning: \n",
      "A value is trying to be set on a copy of a slice from a DataFrame.\n",
      "Try using .loc[row_indexer,col_indexer] = value instead\n",
      "\n",
      "See the caveats in the documentation: https://pandas.pydata.org/pandas-docs/stable/user_guide/indexing.html#returning-a-view-versus-a-copy\n",
      "  test['residuals'] = test['polynomial_fit'] - test['y_line']\n",
      "/Users/samhan/opt/anaconda3/lib/python3.9/site-packages/solarcurtailment/tripping_curt.py:706: SettingWithCopyWarning: \n",
      "A value is trying to be set on a copy of a slice from a DataFrame.\n",
      "Try using .loc[row_indexer,col_indexer] = value instead\n",
      "\n",
      "See the caveats in the documentation: https://pandas.pydata.org/pandas-docs/stable/user_guide/indexing.html#returning-a-view-versus-a-copy\n",
      "  test_filtered['polynomial_fit'] = z[0]*test_filtered['time_in_seconds']*test_filtered['time_in_seconds'] + \\\n"
     ]
    },
    {
     "name": "stdout",
     "output_type": "stream",
     "text": [
      "Analyzing c_id 1700492033 date 2019-09-18 ...\n"
     ]
    },
    {
     "name": "stderr",
     "output_type": "stream",
     "text": [
      "/Users/samhan/opt/anaconda3/lib/python3.9/site-packages/solarcurtailment/tripping_curt.py:506: FutureWarning: reindexing with a non-unique Index is deprecated and will raise in a future version.\n",
      "  data.loc[data['end_pts']==1,'est_cf'] = data['cf']\n"
     ]
    },
    {
     "name": "stdout",
     "output_type": "stream",
     "text": [
      "Analyzing c_id 1146549788 date 2019-09-12 ...\n",
      "Analyzing c_id 1146549788 date 2019-09-17 ...\n",
      "Analyzing c_id 1146549788 date 2019-09-18 ...\n",
      "Analyzing c_id 1027250881 date 2019-09-12 ...\n",
      "Analyzing c_id 1027250881 date 2019-09-17 ...\n",
      "Analyzing c_id 1027250881 date 2019-09-18 ...\n"
     ]
    }
   ],
   "source": [
    "#for c_id in unique_cids['c_id']: #for the whole data testing\n",
    "for c_id in unique_cids['c_id'][:3]: #for testing in Samhan's laptop\n",
    "    count_curtailment = 0\n",
    "    total_energy_generation = 0\n",
    "    total_tripping_curtailment = 0\n",
    "    #for date in csd_list: #for the whole data testing\n",
    "    for date in csd_list[:3]: #for testing in Samhan's laptop\n",
    "        print('Analyzing c_id {} date {} ...'.format(c_id, date))\n",
    "        date_dt = dt.datetime.strptime(date, '%Y-%m-%d').date()\n",
    "        month_analyzed = date[:4] + date [5:7]\n",
    "\n",
    "        date_filter = data[month_analyzed].index.date == date_dt\n",
    "        site_id_filter = data[month_analyzed]['c_id'] == c_id\n",
    "        data_analyzed = data[month_analyzed].loc[date_filter & site_id_filter]\n",
    "\n",
    "        size_is_ok = file_processing.check_data_size(data_analyzed)\n",
    "        if not size_is_ok:\n",
    "            print('Cannot analyze {} site on {} due to incomplete data.'.format(c_id, date))\n",
    "        else:\n",
    "            data_site, ac_cap, dc_cap, EFF_SYSTEM, inverter = vvar_curt.site_organize(c_id, site_details, data_analyzed, unique_cids)\n",
    "            data_site = file_processing.resample_in_minute(data_site)\n",
    "            data_site, polyfit, is_good_polyfit_quality = polyfit_f.check_polyfit(data_site, ac_cap)\n",
    "            is_clear_sky_day = True #because the date is already chosen which is a clear sky day\n",
    "            tripping_response, tripping_curt_energy, estimation_method, data_site = tripping_curt.check_tripping_curtailment(is_clear_sky_day, c_id, data_site, unique_cids, ac_cap, site_details, date)    \n",
    "            energy_generated, data_site = energy_calculation.check_energy_generated(data_site, date, is_clear_sky_day, tripping_curt_energy)\n",
    "            \n",
    "            total_energy_generation += energy_generated\n",
    "            \n",
    "            if tripping_curt_energy > 0:\n",
    "                count_curtailment += 1\n",
    "                total_tripping_curtailment += tripping_curt_energy\n",
    "    \n",
    "    c_id_summary = pd.DataFrame({\n",
    "            'c_id' : [c_id],\n",
    "            'total_energy_generation (kWh)' : [total_energy_generation],\n",
    "            'total_tripping_curtailment (kWh)' : [total_tripping_curtailment],\n",
    "            'count curtailment (days)' : [count_curtailment],\n",
    "            'total days (days)' : [len(csd_list)]\n",
    "        })\n",
    "    \n",
    "    summary = pd.concat([summary, c_id_summary])\n",
    "                "
   ]
  },
  {
   "cell_type": "code",
   "execution_count": 80,
   "id": "09aa71ac",
   "metadata": {},
   "outputs": [
    {
     "data": {
      "text/html": [
       "<div>\n",
       "<style scoped>\n",
       "    .dataframe tbody tr th:only-of-type {\n",
       "        vertical-align: middle;\n",
       "    }\n",
       "\n",
       "    .dataframe tbody tr th {\n",
       "        vertical-align: top;\n",
       "    }\n",
       "\n",
       "    .dataframe thead th {\n",
       "        text-align: right;\n",
       "    }\n",
       "</style>\n",
       "<table border=\"1\" class=\"dataframe\">\n",
       "  <thead>\n",
       "    <tr style=\"text-align: right;\">\n",
       "      <th></th>\n",
       "      <th>c_id</th>\n",
       "      <th>total_energy_generation (kWh)</th>\n",
       "      <th>total_tripping_curtailment (kWh)</th>\n",
       "      <th>count curtailment (days)</th>\n",
       "      <th>total days (days)</th>\n",
       "    </tr>\n",
       "  </thead>\n",
       "  <tbody>\n",
       "    <tr>\n",
       "      <th>0</th>\n",
       "      <td>1700492033</td>\n",
       "      <td>59.959148</td>\n",
       "      <td>0.157336</td>\n",
       "      <td>1</td>\n",
       "      <td>46</td>\n",
       "    </tr>\n",
       "    <tr>\n",
       "      <th>0</th>\n",
       "      <td>1146549788</td>\n",
       "      <td>59.960418</td>\n",
       "      <td>0.000000</td>\n",
       "      <td>0</td>\n",
       "      <td>46</td>\n",
       "    </tr>\n",
       "    <tr>\n",
       "      <th>0</th>\n",
       "      <td>1027250881</td>\n",
       "      <td>105.346732</td>\n",
       "      <td>0.000000</td>\n",
       "      <td>0</td>\n",
       "      <td>46</td>\n",
       "    </tr>\n",
       "  </tbody>\n",
       "</table>\n",
       "</div>"
      ],
      "text/plain": [
       "         c_id  total_energy_generation (kWh)  \\\n",
       "0  1700492033                      59.959148   \n",
       "0  1146549788                      59.960418   \n",
       "0  1027250881                     105.346732   \n",
       "\n",
       "   total_tripping_curtailment (kWh)  count curtailment (days)  \\\n",
       "0                          0.157336                         1   \n",
       "0                          0.000000                         0   \n",
       "0                          0.000000                         0   \n",
       "\n",
       "   total days (days)  \n",
       "0                 46  \n",
       "0                 46  \n",
       "0                 46  "
      ]
     },
     "execution_count": 80,
     "metadata": {},
     "output_type": "execute_result"
    }
   ],
   "source": [
    "summary"
   ]
  },
  {
   "cell_type": "markdown",
   "id": "46f84e0d",
   "metadata": {},
   "source": [
    "# SUMMARY PROCESSING"
   ]
  },
  {
   "cell_type": "code",
   "execution_count": 81,
   "id": "0f36c596",
   "metadata": {},
   "outputs": [],
   "source": [
    "summary['percentage_of_generation_lost'] = summary['total_tripping_curtailment (kWh)'] / summary['total_energy_generation (kWh)'] * 100\n",
    "summary['proportion of days with curtailment'] = summary['count curtailment (days)'] / summary['total days (days)'] * 100\n",
    "summary.sort_values(by = 'percentage_of_generation_lost', ascending = False, inplace = True)\n",
    "summary.reset_index(drop = True, inplace = True)\n",
    "summary['proportion_of_sites'] = summary.index/(len(summary)-1) * 100\n",
    "summary.to_csv(file_path + r'/tripping_csd_summary.csv') "
   ]
  },
  {
   "cell_type": "markdown",
   "id": "ad6030a7",
   "metadata": {},
   "source": [
    "# VISUALIZATION SIMILAR TO FIGURE 14"
   ]
  },
  {
   "cell_type": "code",
   "execution_count": 125,
   "id": "c34f1002",
   "metadata": {},
   "outputs": [
    {
     "data": {
      "image/png": "[encoded data removed]",
      "text/plain": [
       "<Figure size 1332x756 with 2 Axes>"
      ]
     },
     "metadata": {},
     "output_type": "display_data"
    }
   ],
   "source": [
    "fig, ax1 = plt.subplots()\n",
    "fig.set_size_inches(18.5, 10.5)\n",
    "\n",
    "ax1.scatter(summary['proportion_of_sites'], summary[\"percentage_of_generation_lost\"], color = 'b', \n",
    "            label = 'Percentage generation lost')\n",
    "\n",
    "ax1.set_xlabel('Proportion of sites', **fontdict)\n",
    "ax1.set_ylabel('Percentage of generation lost per site', **fontdict, color='b')\n",
    "\n",
    "ax1.set_xticks([0, 20, 40, 60, 80, 100])\n",
    "ax1.set_xticklabels(['0 %', '20 %', '40 %', '60 %', '80 %', '100 %'], **fontdict)\n",
    "ax1.set_yticks([0, 4, 8, 12, 16, 20])\n",
    "ax1.set_yticklabels(['0 %', '4 %', '8 %', '12 %', '16 %', '20 %'], **fontdict)\n",
    "ax1.legend(loc = 2, prop={'size': 15})\n",
    "\n",
    "ax2 = ax1.twinx()\n",
    "ax2.scatter(summary['proportion_of_sites'], summary['proportion of days with curtailment'], color='r',\n",
    "           label = 'Proportion of days with some curtailment')\n",
    "ax2.set_ylabel('Proportion of days with some curtailment', color='r', **fontdict)\n",
    "ax2.set_yticks([0, 20, 40, 60, 80, 100])\n",
    "ax2.set_yticklabels(['0 %', '20 %', '40 %', '60 %', '80 %', '100 %'], **fontdict)\n",
    "ax2.legend(loc = 1, prop={'size': 15})\n",
    "\n",
    "plt.show()"
   ]
  },
  {
   "cell_type": "markdown",
   "id": "9c611dba",
   "metadata": {},
   "source": [
    "# MESSY BELOW"
   ]
  },
  {
   "cell_type": "code",
   "execution_count": null,
   "id": "9f1a3502",
   "metadata": {},
   "outputs": [],
   "source": [
    "\n",
    "if not size_is_ok:\n",
    "    print('Cannot analyze this sample due to incomplete data.')\n",
    "else:\n",
    "    ghi = pd.read_csv(file_path + ghi_file, index_col = 0)\n",
    "    ghi.index = pd.to_datetime(ghi.index)\n",
    "    pd.to_datetime(data['Timestamp'].str.slice(0, 19, 1))\n",
    "    data['Timestamp'] = pd.to_datetime(data['Timestamp'].str.slice(0, 19, 1))\n",
    "    data.set_index('Timestamp', inplace=True)\n",
    "\n",
    "    c_id = data['c_id'][0]\n",
    "    date = str(data.index[0])[:10]\n",
    "\n",
    "    data_site, ac_cap, dc_cap, EFF_SYSTEM, inverter = vvar_curt.site_organize(c_id, site_details, data, unique_cids)\n",
    "    data_site = file_processing.resample_in_minute(data_site)\n",
    "\n",
    "    #check the expected power using polyfit\n",
    "    data_site, polyfit, is_good_polyfit_quality = polyfit_f.check_polyfit(data_site, ac_cap)\n",
    "    #data_site, a, is_good_polyfit_quality = check_polyfit_constrained(data_site, ac_cap)\n",
    "\n",
    "    is_clear_sky_day = clear_sky_day.check_clear_sky_day(date, file_path)\n",
    "    tripping_response, tripping_curt_energy, estimation_method, data_site = tripping_curt.check_tripping_curtailment(is_clear_sky_day, c_id, data_site, unique_cids, ac_cap, site_details, date)    \n",
    "    energy_generated, data_site = energy_calculation.check_energy_generated(data_site, date, is_clear_sky_day, tripping_curt_energy)"
   ]
  }
 ],
 "metadata": {
  "kernelspec": {
   "display_name": "Python 3 (base)",
   "language": "python",
   "name": "python3"
  },
  "language_info": {
   "codemirror_mode": {
    "name": "ipython",
    "version": 3
   },
   "file_extension": ".py",
   "mimetype": "text/x-python",
   "name": "python",
   "nbconvert_exporter": "python",
   "pygments_lexer": "ipython3",
   "version": "3.9.12"
  }
 },
 "nbformat": 4,
 "nbformat_minor": 5
}
