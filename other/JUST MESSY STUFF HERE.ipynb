{
 "cells": [
  {
   "cell_type": "code",
   "execution_count": 1,
   "id": "a408be29",
   "metadata": {},
   "outputs": [],
   "source": [
    "class MyClass:\n",
    "    def method_1 (self):\n",
    "        print('This if method_1!')"
   ]
  },
  {
   "cell_type": "code",
   "execution_count": 2,
   "id": "b4e21d83",
   "metadata": {},
   "outputs": [
    {
     "name": "stdout",
     "output_type": "stream",
     "text": [
      "This if method_1!\n"
     ]
    }
   ],
   "source": [
    "myclass = MyClass()\n",
    "myclass.method_1()"
   ]
  },
  {
   "cell_type": "code",
   "execution_count": 5,
   "id": "442dafc5",
   "metadata": {},
   "outputs": [],
   "source": [
    "class MyClass2:\n",
    "    def method_1 (self):\n",
    "        print('This if method_1!')"
   ]
  },
  {
   "cell_type": "code",
   "execution_count": 6,
   "id": "0c34aa38",
   "metadata": {},
   "outputs": [
    {
     "name": "stdout",
     "output_type": "stream",
     "text": [
      "This if method_1!\n"
     ]
    }
   ],
   "source": [
    "myclass2 = MyClass2()\n",
    "myclass2.method_1()"
   ]
  },
  {
   "cell_type": "code",
   "execution_count": 1,
   "id": "4791cfea",
   "metadata": {},
   "outputs": [],
   "source": [
    "file_path = r'C:\\Users\\samha\\Documents\\CANVAS\\data'"
   ]
  },
  {
   "cell_type": "code",
   "execution_count": 3,
   "id": "3eea7bc8",
   "metadata": {},
   "outputs": [],
   "source": [
    "import pandas as pd"
   ]
  },
  {
   "cell_type": "code",
   "execution_count": 4,
   "id": "e06f453c",
   "metadata": {},
   "outputs": [],
   "source": [
    "data = pd.read_csv(file_path + '\\processed_unsw_201907_data_raw.csv')"
   ]
  },
  {
   "cell_type": "code",
   "execution_count": 6,
   "id": "3666bf8b",
   "metadata": {},
   "outputs": [],
   "source": [
    "data = data.loc[data['c_id'] == 1700492033]"
   ]
  },
  {
   "cell_type": "code",
   "execution_count": 8,
   "id": "552ddada",
   "metadata": {},
   "outputs": [
    {
     "name": "stderr",
     "output_type": "stream",
     "text": [
      "C:\\Users\\samha\\AppData\\Local\\Temp\\ipykernel_21856\\1660341547.py:1: SettingWithCopyWarning: \n",
      "A value is trying to be set on a copy of a slice from a DataFrame\n",
      "\n",
      "See the caveats in the documentation: https://pandas.pydata.org/pandas-docs/stable/user_guide/indexing.html#returning-a-view-versus-a-copy\n",
      "  data.sort_values(by = 'utc_tstamp', inplace = True)\n"
     ]
    }
   ],
   "source": [
    "data.sort_values(by = 'utc_tstamp', inplace = True)"
   ]
  },
  {
   "cell_type": "code",
   "execution_count": 9,
   "id": "542c485c",
   "metadata": {},
   "outputs": [
    {
     "data": {
      "text/html": [
       "<div>\n",
       "<style scoped>\n",
       "    .dataframe tbody tr th:only-of-type {\n",
       "        vertical-align: middle;\n",
       "    }\n",
       "\n",
       "    .dataframe tbody tr th {\n",
       "        vertical-align: top;\n",
       "    }\n",
       "\n",
       "    .dataframe thead th {\n",
       "        text-align: right;\n",
       "    }\n",
       "</style>\n",
       "<table border=\"1\" class=\"dataframe\">\n",
       "  <thead>\n",
       "    <tr style=\"text-align: right;\">\n",
       "      <th></th>\n",
       "      <th>c_id</th>\n",
       "      <th>utc_tstamp</th>\n",
       "      <th>energy</th>\n",
       "      <th>power</th>\n",
       "      <th>reactive_power</th>\n",
       "      <th>voltage</th>\n",
       "      <th>duration</th>\n",
       "    </tr>\n",
       "  </thead>\n",
       "  <tbody>\n",
       "    <tr>\n",
       "      <th>18957740</th>\n",
       "      <td>1700492033</td>\n",
       "      <td>2019-07-01 14:00:55.000</td>\n",
       "      <td>-25</td>\n",
       "      <td>-0.416667</td>\n",
       "      <td>183</td>\n",
       "      <td>246.3</td>\n",
       "      <td>60</td>\n",
       "    </tr>\n",
       "    <tr>\n",
       "      <th>18957741</th>\n",
       "      <td>1700492033</td>\n",
       "      <td>2019-07-01 14:01:55.000</td>\n",
       "      <td>-25</td>\n",
       "      <td>-0.416667</td>\n",
       "      <td>183</td>\n",
       "      <td>246.1</td>\n",
       "      <td>60</td>\n",
       "    </tr>\n",
       "    <tr>\n",
       "      <th>18957742</th>\n",
       "      <td>1700492033</td>\n",
       "      <td>2019-07-01 14:02:55.000</td>\n",
       "      <td>-24</td>\n",
       "      <td>-0.400000</td>\n",
       "      <td>185</td>\n",
       "      <td>246.2</td>\n",
       "      <td>60</td>\n",
       "    </tr>\n",
       "    <tr>\n",
       "      <th>18957743</th>\n",
       "      <td>1700492033</td>\n",
       "      <td>2019-07-01 14:03:55.000</td>\n",
       "      <td>-25</td>\n",
       "      <td>-0.416667</td>\n",
       "      <td>186</td>\n",
       "      <td>246.1</td>\n",
       "      <td>60</td>\n",
       "    </tr>\n",
       "    <tr>\n",
       "      <th>18957744</th>\n",
       "      <td>1700492033</td>\n",
       "      <td>2019-07-01 14:04:55.000</td>\n",
       "      <td>-26</td>\n",
       "      <td>-0.433333</td>\n",
       "      <td>181</td>\n",
       "      <td>246.2</td>\n",
       "      <td>60</td>\n",
       "    </tr>\n",
       "    <tr>\n",
       "      <th>...</th>\n",
       "      <td>...</td>\n",
       "      <td>...</td>\n",
       "      <td>...</td>\n",
       "      <td>...</td>\n",
       "      <td>...</td>\n",
       "      <td>...</td>\n",
       "      <td>...</td>\n",
       "    </tr>\n",
       "    <tr>\n",
       "      <th>16094812</th>\n",
       "      <td>1700492033</td>\n",
       "      <td>2019-07-31 13:55:55.000</td>\n",
       "      <td>-24</td>\n",
       "      <td>-0.400000</td>\n",
       "      <td>180</td>\n",
       "      <td>244.5</td>\n",
       "      <td>60</td>\n",
       "    </tr>\n",
       "    <tr>\n",
       "      <th>16095351</th>\n",
       "      <td>1700492033</td>\n",
       "      <td>2019-07-31 13:56:55.000</td>\n",
       "      <td>-24</td>\n",
       "      <td>-0.400000</td>\n",
       "      <td>180</td>\n",
       "      <td>244.3</td>\n",
       "      <td>60</td>\n",
       "    </tr>\n",
       "    <tr>\n",
       "      <th>16095897</th>\n",
       "      <td>1700492033</td>\n",
       "      <td>2019-07-31 13:57:55.000</td>\n",
       "      <td>-26</td>\n",
       "      <td>-0.433333</td>\n",
       "      <td>180</td>\n",
       "      <td>244.8</td>\n",
       "      <td>60</td>\n",
       "    </tr>\n",
       "    <tr>\n",
       "      <th>16096411</th>\n",
       "      <td>1700492033</td>\n",
       "      <td>2019-07-31 13:58:55.000</td>\n",
       "      <td>-23</td>\n",
       "      <td>-0.383333</td>\n",
       "      <td>180</td>\n",
       "      <td>245.1</td>\n",
       "      <td>60</td>\n",
       "    </tr>\n",
       "    <tr>\n",
       "      <th>16096936</th>\n",
       "      <td>1700492033</td>\n",
       "      <td>2019-07-31 13:59:55.000</td>\n",
       "      <td>-24</td>\n",
       "      <td>-0.400000</td>\n",
       "      <td>180</td>\n",
       "      <td>245.1</td>\n",
       "      <td>60</td>\n",
       "    </tr>\n",
       "  </tbody>\n",
       "</table>\n",
       "<p>44067 rows × 7 columns</p>\n",
       "</div>"
      ],
      "text/plain": [
       "                c_id               utc_tstamp  energy     power  \\\n",
       "18957740  1700492033  2019-07-01 14:00:55.000     -25 -0.416667   \n",
       "18957741  1700492033  2019-07-01 14:01:55.000     -25 -0.416667   \n",
       "18957742  1700492033  2019-07-01 14:02:55.000     -24 -0.400000   \n",
       "18957743  1700492033  2019-07-01 14:03:55.000     -25 -0.416667   \n",
       "18957744  1700492033  2019-07-01 14:04:55.000     -26 -0.433333   \n",
       "...              ...                      ...     ...       ...   \n",
       "16094812  1700492033  2019-07-31 13:55:55.000     -24 -0.400000   \n",
       "16095351  1700492033  2019-07-31 13:56:55.000     -24 -0.400000   \n",
       "16095897  1700492033  2019-07-31 13:57:55.000     -26 -0.433333   \n",
       "16096411  1700492033  2019-07-31 13:58:55.000     -23 -0.383333   \n",
       "16096936  1700492033  2019-07-31 13:59:55.000     -24 -0.400000   \n",
       "\n",
       "          reactive_power  voltage  duration  \n",
       "18957740             183    246.3        60  \n",
       "18957741             183    246.1        60  \n",
       "18957742             185    246.2        60  \n",
       "18957743             186    246.1        60  \n",
       "18957744             181    246.2        60  \n",
       "...                  ...      ...       ...  \n",
       "16094812             180    244.5        60  \n",
       "16095351             180    244.3        60  \n",
       "16095897             180    244.8        60  \n",
       "16096411             180    245.1        60  \n",
       "16096936             180    245.1        60  \n",
       "\n",
       "[44067 rows x 7 columns]"
      ]
     },
     "execution_count": 9,
     "metadata": {},
     "output_type": "execute_result"
    }
   ],
   "source": [
    "data"
   ]
  },
  {
   "cell_type": "code",
   "execution_count": null,
   "id": "bf8329ff",
   "metadata": {},
   "outputs": [],
   "source": []
  }
 ],
 "metadata": {
  "kernelspec": {
   "display_name": "Python 3 (ipykernel)",
   "language": "python",
   "name": "python3"
  },
  "language_info": {
   "codemirror_mode": {
    "name": "ipython",
    "version": 3
   },
   "file_extension": ".py",
   "mimetype": "text/x-python",
   "name": "python",
   "nbconvert_exporter": "python",
   "pygments_lexer": "ipython3",
   "version": "3.9.12"
  }
 },
 "nbformat": 4,
 "nbformat_minor": 5
}
