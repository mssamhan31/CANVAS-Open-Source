{
 "cells": [
  {
   "cell_type": "code",
   "execution_count": 1,
   "id": "a408be29",
   "metadata": {},
   "outputs": [],
   "source": [
    "class MyClass:\n",
    "    def method_1 (self):\n",
    "        print('This if method_1!')\n",
    "    def method_2 (self):\n",
    "        self.method_1()\n",
    "        print('look at that!')"
   ]
  },
  {
   "cell_type": "code",
   "execution_count": 10,
   "id": "0df9c9b8",
   "metadata": {},
   "outputs": [],
   "source": [
    "class MyClassSecond:\n",
    "    def method_1 (self):\n",
    "        MyClass.method_1(self)"
   ]
  },
  {
   "cell_type": "code",
   "execution_count": 2,
   "id": "b4e21d83",
   "metadata": {
    "scrolled": true
   },
   "outputs": [
    {
     "name": "stdout",
     "output_type": "stream",
     "text": [
      "This if method_1!\n"
     ]
    }
   ],
   "source": [
    "myclass = MyClass()\n",
    "myclass.method_1()"
   ]
  },
  {
   "cell_type": "code",
   "execution_count": 3,
   "id": "bf8329ff",
   "metadata": {},
   "outputs": [
    {
     "name": "stdout",
     "output_type": "stream",
     "text": [
      "This if method_1!\n",
      "look at that!\n"
     ]
    }
   ],
   "source": [
    "myclass.method_2()"
   ]
  },
  {
   "cell_type": "code",
   "execution_count": 11,
   "id": "14865890",
   "metadata": {},
   "outputs": [],
   "source": [
    "trial = MyClassSecond()"
   ]
  },
  {
   "cell_type": "code",
   "execution_count": 13,
   "id": "a8472e47",
   "metadata": {},
   "outputs": [
    {
     "name": "stdout",
     "output_type": "stream",
     "text": [
      "This if method_1!\n"
     ]
    }
   ],
   "source": [
    "trial.method_1()"
   ]
  },
  {
   "cell_type": "code",
   "execution_count": 15,
   "id": "9f306850",
   "metadata": {},
   "outputs": [],
   "source": [
    "hmm = trial.method_1"
   ]
  },
  {
   "cell_type": "code",
   "execution_count": 17,
   "id": "25cd892e",
   "metadata": {},
   "outputs": [
    {
     "name": "stdout",
     "output_type": "stream",
     "text": [
      "This if method_1!\n"
     ]
    }
   ],
   "source": [
    "hmm()"
   ]
  }
 ],
 "metadata": {
  "kernelspec": {
   "display_name": "Python 3 (ipykernel)",
   "language": "python",
   "name": "python3"
  },
  "language_info": {
   "codemirror_mode": {
    "name": "ipython",
    "version": 3
   },
   "file_extension": ".py",
   "mimetype": "text/x-python",
   "name": "python",
   "nbconvert_exporter": "python",
   "pygments_lexer": "ipython3",
   "version": "3.9.12"
  }
 },
 "nbformat": 4,
 "nbformat_minor": 5
}
