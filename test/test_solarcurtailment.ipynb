{
 "cells": [
  {
   "cell_type": "code",
   "execution_count": 1,
   "id": "a3b4031a",
   "metadata": {
    "scrolled": true
   },
   "outputs": [],
   "source": [
    "from solarcurtailment import solarcurtailment"
   ]
  },
  {
   "cell_type": "code",
   "execution_count": 2,
   "id": "2d86b0ec",
   "metadata": {
    "scrolled": true
   },
   "outputs": [
    {
     "name": "stdout",
     "output_type": "stream",
     "text": [
      "Analyzing sample number 1\n"
     ]
    },
    {
     "ename": "NameError",
     "evalue": "name 'filter_sunrise_sunset' is not defined",
     "output_type": "error",
     "traceback": [
      "\u001b[0;31m---------------------------------------------------------------------------\u001b[0m",
      "\u001b[0;31mNameError\u001b[0m                                 Traceback (most recent call last)",
      "Input \u001b[0;32mIn [2]\u001b[0m, in \u001b[0;36m<cell line: 4>\u001b[0;34m()\u001b[0m\n\u001b[1;32m      7\u001b[0m data_file \u001b[38;5;241m=\u001b[39m \u001b[38;5;124m'\u001b[39m\u001b[38;5;124m/data_sample_\u001b[39m\u001b[38;5;132;01m{}\u001b[39;00m\u001b[38;5;124m.csv\u001b[39m\u001b[38;5;124m'\u001b[39m\u001b[38;5;241m.\u001b[39mformat(sample_number)\n\u001b[1;32m      8\u001b[0m ghi_file \u001b[38;5;241m=\u001b[39m \u001b[38;5;124m'\u001b[39m\u001b[38;5;124m/ghi_sample_\u001b[39m\u001b[38;5;132;01m{}\u001b[39;00m\u001b[38;5;124m.csv\u001b[39m\u001b[38;5;124m'\u001b[39m\u001b[38;5;241m.\u001b[39mformat(sample_number)\n\u001b[0;32m---> 10\u001b[0m \u001b[43msolarcurtailment\u001b[49m\u001b[38;5;241;43m.\u001b[39;49m\u001b[43mcompute\u001b[49m\u001b[43m(\u001b[49m\u001b[43mfile_path\u001b[49m\u001b[43m,\u001b[49m\u001b[43m \u001b[49m\u001b[43mdata_file\u001b[49m\u001b[43m,\u001b[49m\u001b[43m \u001b[49m\u001b[43mghi_file\u001b[49m\u001b[43m)\u001b[49m\n",
      "File \u001b[0;32m~/opt/anaconda3/lib/python3.9/site-packages/solarcurtailment/solarcurtailment.py:82\u001b[0m, in \u001b[0;36mcompute\u001b[0;34m(file_path, data_file, ghi_file)\u001b[0m\n\u001b[1;32m     79\u001b[0m data_site \u001b[38;5;241m=\u001b[39m resample_in_minute(data_site)\n\u001b[1;32m     81\u001b[0m \u001b[38;5;66;03m#check the expected power using polyfit\u001b[39;00m\n\u001b[0;32m---> 82\u001b[0m data_site, polyfit, is_good_polyfit_quality \u001b[38;5;241m=\u001b[39m \u001b[43mcheck_polyfit\u001b[49m\u001b[43m(\u001b[49m\u001b[43mdata_site\u001b[49m\u001b[43m,\u001b[49m\u001b[43m \u001b[49m\u001b[43mac_cap\u001b[49m\u001b[43m)\u001b[49m\n\u001b[1;32m     83\u001b[0m \u001b[38;5;66;03m#data_site, a, is_good_polyfit_quality = check_polyfit_constrained(data_site, ac_cap)\u001b[39;00m\n\u001b[1;32m     85\u001b[0m is_clear_sky_day \u001b[38;5;241m=\u001b[39m check_clear_sky_day(date, file_path)\n",
      "File \u001b[0;32m~/opt/anaconda3/lib/python3.9/site-packages/solarcurtailment/polyfit.py:53\u001b[0m, in \u001b[0;36mcheck_polyfit\u001b[0;34m(data_site, ac_cap)\u001b[0m\n\u001b[1;32m     38\u001b[0m \u001b[38;5;124;03m\"\"\"Filter the power data, do polyfit estimate, check its quality, and calculate expected energy generated.\u001b[39;00m\n\u001b[1;32m     39\u001b[0m \n\u001b[1;32m     40\u001b[0m \u001b[38;5;124;03mArgs:\u001b[39;00m\n\u001b[0;32m   (...)\u001b[0m\n\u001b[1;32m     49\u001b[0m \u001b[38;5;124;03m    data_site (df): data_site with expected power column\u001b[39;00m\n\u001b[1;32m     50\u001b[0m \u001b[38;5;124;03m\"\"\"\u001b[39;00m\n\u001b[1;32m     51\u001b[0m data_site\u001b[38;5;241m.\u001b[39mindex\u001b[38;5;241m.\u001b[39mrename(\u001b[38;5;124m'\u001b[39m\u001b[38;5;124mts\u001b[39m\u001b[38;5;124m'\u001b[39m, inplace \u001b[38;5;241m=\u001b[39m \u001b[38;5;28;01mTrue\u001b[39;00m)\n\u001b[0;32m---> 53\u001b[0m sunrise, sunset, data_site \u001b[38;5;241m=\u001b[39m \u001b[43mfilter_sunrise_sunset\u001b[49m(data_site)\n\u001b[1;32m     54\u001b[0m data_site[\u001b[38;5;124m'\u001b[39m\u001b[38;5;124mpower_relative\u001b[39m\u001b[38;5;124m'\u001b[39m] \u001b[38;5;241m=\u001b[39m data_site[\u001b[38;5;124m'\u001b[39m\u001b[38;5;124mpower\u001b[39m\u001b[38;5;124m'\u001b[39m] \u001b[38;5;241m/\u001b[39m ac_cap\n\u001b[1;32m     55\u001b[0m timestamp_complete \u001b[38;5;241m=\u001b[39m data_site\u001b[38;5;241m.\u001b[39mindex\n",
      "\u001b[0;31mNameError\u001b[0m: name 'filter_sunrise_sunset' is not defined"
     ]
    }
   ],
   "source": [
    "file_path = r\"/Users/samhan/Downloads/data\" #this is for running in Samhan's laptop\n",
    "#file_path = r\"C:\\Users\\samha\\Documents\\CANVAS\\data\" #for running in TETB CEEM09 computer\n",
    "\n",
    "for i in [1, 11, 14, 4, 5, 8, 9]: \n",
    "    sample_number = i\n",
    "    print('Analyzing sample number {}'.format(i))\n",
    "    data_file = '/data_sample_{}.csv'.format(sample_number)\n",
    "    ghi_file = '/ghi_sample_{}.csv'.format(sample_number)\n",
    "\n",
    "    solarcurtailment.compute(file_path, data_file, ghi_file)"
   ]
  },
  {
   "cell_type": "code",
   "execution_count": null,
   "id": "e4bb0588",
   "metadata": {},
   "outputs": [],
   "source": []
  }
 ],
 "metadata": {
  "kernelspec": {
   "display_name": "Python 3 (base)",
   "language": "python",
   "name": "python3"
  },
  "language_info": {
   "codemirror_mode": {
    "name": "ipython",
    "version": 3
   },
   "file_extension": ".py",
   "mimetype": "text/x-python",
   "name": "python",
   "nbconvert_exporter": "python",
   "pygments_lexer": "ipython3",
   "version": "3.9.12"
  }
 },
 "nbformat": 4,
 "nbformat_minor": 5
}
