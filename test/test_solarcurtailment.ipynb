{
 "cells": [
  {
   "cell_type": "code",
   "execution_count": 1,
   "id": "527f62bf",
   "metadata": {},
   "outputs": [
    {
     "ename": "ModuleNotFoundError",
     "evalue": "No module named 'solarcurtailment'",
     "output_type": "error",
     "traceback": [
      "\u001b[0;31m---------------------------------------------------------------------------\u001b[0m",
      "\u001b[0;31mModuleNotFoundError\u001b[0m                       Traceback (most recent call last)",
      "Input \u001b[0;32mIn [1]\u001b[0m, in \u001b[0;36m<cell line: 1>\u001b[0;34m()\u001b[0m\n\u001b[0;32m----> 1\u001b[0m \u001b[38;5;28;01mfrom\u001b[39;00m \u001b[38;5;21;01msolarcurtailment\u001b[39;00m \u001b[38;5;28;01mimport\u001b[39;00m solarcurtailment\n",
      "\u001b[0;31mModuleNotFoundError\u001b[0m: No module named 'solarcurtailment'"
     ]
    }
   ],
   "source": [
    "from solarcurtailment import solarcurtailment"
   ]
  },
  {
   "cell_type": "code",
   "execution_count": null,
   "id": "2d86b0ec",
   "metadata": {
    "scrolled": false
   },
   "outputs": [],
   "source": [
    "file_path = r\"/Users/samhan/Downloads/data\" #this is for running in Samhan's laptop\n",
    "#file_path = r\"C:\\Users\\samha\\Documents\\CANVAS\\data\" #for running in TETB CEEM09 computer\n",
    "\n",
    "for i in [1, 11, 14, 4, 5, 8, 9]: \n",
    "    sample_number = i\n",
    "    print('Analyzing sample number {}'.format(i))\n",
    "    data_file = '/data_sample_{}.csv'.format(sample_number)\n",
    "    ghi_file = '/ghi_sample_{}.csv'.format(sample_number)\n",
    "\n",
    "    solarcurtailment.compute(file_path, data_file, ghi_file)"
   ]
  },
  {
   "cell_type": "code",
   "execution_count": null,
   "id": "e4bb0588",
   "metadata": {},
   "outputs": [],
   "source": []
  }
 ],
 "metadata": {
  "kernelspec": {
   "display_name": "Python 3 (base)",
   "language": "python",
   "name": "python3"
  },
  "language_info": {
   "codemirror_mode": {
    "name": "ipython",
    "version": 3
   },
   "file_extension": ".py",
   "mimetype": "text/x-python",
   "name": "python",
   "nbconvert_exporter": "python",
   "pygments_lexer": "ipython3",
   "version": "3.9.12"
  }
 },
 "nbformat": 4,
 "nbformat_minor": 5
}
